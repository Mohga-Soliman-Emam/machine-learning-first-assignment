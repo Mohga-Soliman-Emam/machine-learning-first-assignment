{
  "nbformat": 4,
  "nbformat_minor": 0,
  "metadata": {
    "colab": {
      "name": "Copy of 1_Supervisedlearning_Dima.ipynb",
      "provenance": [],
      "collapsed_sections": []
    },
    "kernelspec": {
      "display_name": "Python 3",
      "language": "python",
      "name": "python3"
    },
    "language_info": {
      "codemirror_mode": {
        "name": "ipython",
        "version": 3
      },
      "file_extension": ".py",
      "mimetype": "text/x-python",
      "name": "python",
      "nbconvert_exporter": "python",
      "pygments_lexer": "ipython3",
      "version": "3.7.3"
    }
  },
  "cells": [
    {
      "cell_type": "markdown",
      "metadata": {
        "id": "JUqnK5ek1sbB",
        "colab_type": "text"
      },
      "source": [
        "#COVID\n",
        "<font color='orange'>**If you attended the class in person, please don't forget to fill in [this form](https://docs.google.com/forms/d/e/1FAIpQLSfA7p1lxOhaXLw_2jO1OBvOzqheS0kjzm968S4uciXQKh5__g/viewform)**"
      ]
    },
    {
      "cell_type": "markdown",
      "metadata": {
        "colab_type": "text",
        "id": "qmpZeRhwGmqX"
      },
      "source": [
        "# Introduction to supervised learning \n",
        "\n",
        "Let's practice the material that was discussed during the lecture. Please, make a copy of this colaboratory in order to be able to make changes **(File -> Save a copy in Drive)**.\n",
        "\n",
        "## Homework #1\n",
        "\n",
        "This colaboratory also contains Homework #1 of the Machine Learning course, which is due **September 20, Sunday, midnight (23:59 EET time)**. To complete the homework, extract **(File -> Download .ipynb)** and submit to the course webpage.\n",
        "\n",
        "**NB! Links to your colaboratory will not be accepted as a solution!**"
      ]
    },
    {
      "cell_type": "markdown",
      "metadata": {
        "id": "HAatB_cDv6-X",
        "colab_type": "text"
      },
      "source": [
        "##List of Homework's exercises:\n",
        "1. [EX1](#scrollTo=tz9XASPxeqDC) - 2 points\n",
        "2. [EX2](#scrollTo=X2xsOtQCuHla&line=1&uniqifier=1) - 2 points\n",
        "3. [EX3](#scrollTo=1YXt-Gxw9UY7&line=1&uniqifier=1) - 2 points\n",
        "4. [EX4](#scrollTo=7p4GMeGK-QGL&line=1&uniqifier=1) - 1 points\n",
        "5. [EX5](#scrollTo=nqV2c5sDc_f2&line=2&uniqifier=1) - 3 points\n",
        "6. [Bonus 1](#scrollTo=_2T9ydozzcb-&line=3&uniqifier=1) - 2 points\n",
        "7. [Bonus 2](#scrollTo=UkOtofaRjH8P&line=1&uniqifier=1) - up to 5 points"
      ]
    },
    {
      "cell_type": "markdown",
      "metadata": {
        "colab_type": "text",
        "id": "ZV4uCvr556Ey"
      },
      "source": [
        "## Introducing Colaboratory (Colab)\n",
        "**Colaboratory**, is a great tool created by Google for individuals interested in getting a hands-on experience with Machine Learning (including Deep Learning). It offers a free CPU/**GPU** quota and a preconfigured virtual machine instance set up for to run Tensorflow and Keras libraries using a Jupyter notebook instance. **In one sentence, it is a perfect “getting started” point for experimentation with neural networks for any part-time hobbist or computer nerd**.\n",
        "\n",
        "*Introductory text by Oleg Żero (https://zerowithdot.com/colab-workspace/).*\n"
      ]
    },
    {
      "cell_type": "code",
      "metadata": {
        "id": "IYNkz6NF4Xft",
        "colab_type": "code",
        "colab": {
          "base_uri": "https://localhost:8080/",
          "height": 34
        },
        "outputId": "9b70ca7a-1976-472c-d5a3-5293b9e8c733"
      },
      "source": [
        "print(\"Hello world!\")"
      ],
      "execution_count": 24,
      "outputs": [
        {
          "output_type": "stream",
          "text": [
            "Hello world!\n"
          ],
          "name": "stdout"
        }
      ]
    },
    {
      "cell_type": "code",
      "metadata": {
        "colab_type": "code",
        "id": "cMZE8eDa6ZDP",
        "colab": {
          "base_uri": "https://localhost:8080/",
          "height": 34
        },
        "outputId": "9daffd9b-b2a1-48a9-93ed-0f1999029046"
      },
      "source": [
        "!ls"
      ],
      "execution_count": 25,
      "outputs": [
        {
          "output_type": "stream",
          "text": [
            "MNIST_data  sample_data\n"
          ],
          "name": "stdout"
        }
      ]
    },
    {
      "cell_type": "markdown",
      "metadata": {
        "colab_type": "text",
        "id": "_y2ZD14f9EQt"
      },
      "source": [
        "## Classification with KNN on MNIST\n",
        "We shall use classical MNIST dataset to practice one of the simplest machine learning algorithms - Nearest Neighbour algorithm and its extension - K-Nearest Neighbour algorithm. MNIST stands for Mixed National Institute of Standards and Technology and contains almost 55000 small square 28×28 pixel grayscale images of digits from 0 to 9. Let's load it!"
      ]
    },
    {
      "cell_type": "markdown",
      "metadata": {
        "colab_type": "text",
        "id": "NJIhqUhr40Ks"
      },
      "source": [
        "### Setup: \n",
        "Here we will load necessary libraries (NumPy and Pandas) and MNIST dataset "
      ]
    },
    {
      "cell_type": "code",
      "metadata": {
        "colab_type": "code",
        "id": "bqp9Kj1g4yFb",
        "colab": {}
      },
      "source": [
        "import numpy as np \n",
        "import pandas as pd\n",
        "import matplotlib.pyplot as plt\n",
        "\n",
        "import warnings\n",
        "warnings.filterwarnings('ignore', category = RuntimeWarning)\n",
        "\n",
        "import os\n",
        "\n",
        "# old school TF\n",
        "%tensorflow_version 1.x\n",
        "\n",
        "# Supress warnings by TF 1.x\n",
        "import tensorflow as tf\n",
        "tf.compat.v1.logging.set_verbosity(tf.compat.v1.logging.ERROR) # credit to Dmitry Lekhovitsky\n",
        "\n",
        "from tensorflow.examples.tutorials.mnist import input_data"
      ],
      "execution_count": 26,
      "outputs": []
    },
    {
      "cell_type": "code",
      "metadata": {
        "colab_type": "code",
        "id": "KEmje5XZ5JBU",
        "colab": {
          "base_uri": "https://localhost:8080/",
          "height": 86
        },
        "outputId": "596b6547-458e-46cc-8d0e-c4374e422e1e"
      },
      "source": [
        "mnist = input_data.read_data_sets(\"MNIST_data/\", one_hot=False)"
      ],
      "execution_count": 27,
      "outputs": [
        {
          "output_type": "stream",
          "text": [
            "Extracting MNIST_data/train-images-idx3-ubyte.gz\n",
            "Extracting MNIST_data/train-labels-idx1-ubyte.gz\n",
            "Extracting MNIST_data/t10k-images-idx3-ubyte.gz\n",
            "Extracting MNIST_data/t10k-labels-idx1-ubyte.gz\n"
          ],
          "name": "stdout"
        }
      ]
    },
    {
      "cell_type": "code",
      "metadata": {
        "colab_type": "code",
        "id": "cZzoTvgS6XQH",
        "colab": {
          "base_uri": "https://localhost:8080/",
          "height": 34
        },
        "outputId": "fcf1abfb-0afb-443f-c1cf-d7725a896afe"
      },
      "source": [
        "!ls"
      ],
      "execution_count": 28,
      "outputs": [
        {
          "output_type": "stream",
          "text": [
            "MNIST_data  sample_data\n"
          ],
          "name": "stdout"
        }
      ]
    },
    {
      "cell_type": "markdown",
      "metadata": {
        "colab_type": "text",
        "id": "uuGg44WglSCR"
      },
      "source": [
        "We check the dimensionality of the downloaded images:"
      ]
    },
    {
      "cell_type": "code",
      "metadata": {
        "colab_type": "code",
        "id": "WtOd4fiY5K_R",
        "colab": {
          "base_uri": "https://localhost:8080/",
          "height": 34
        },
        "outputId": "81f3ee90-3551-4d30-8c01-2e1a17a52c78"
      },
      "source": [
        "images = np.vstack([img for img in mnist.train.images])\n",
        "labels = mnist.train.labels\n",
        "print(f\"images are of shape: {images.shape} and labels: {labels.shape}\")"
      ],
      "execution_count": 29,
      "outputs": [
        {
          "output_type": "stream",
          "text": [
            "images are of shape: (55000, 784) and labels: (55000,)\n"
          ],
          "name": "stdout"
        }
      ]
    },
    {
      "cell_type": "markdown",
      "metadata": {
        "colab_type": "text",
        "id": "6pjoMXl362uf"
      },
      "source": [
        "### Visualising MNIST"
      ]
    },
    {
      "cell_type": "code",
      "metadata": {
        "colab_type": "code",
        "id": "ukpUqfgl4S3j",
        "colab": {
          "base_uri": "https://localhost:8080/",
          "height": 1000
        },
        "outputId": "0011355e-2bb1-490e-e82d-43fed16dedf4"
      },
      "source": [
        "images[0,:]"
      ],
      "execution_count": 30,
      "outputs": [
        {
          "output_type": "execute_result",
          "data": {
            "text/plain": [
              "array([0.        , 0.        , 0.        , 0.        , 0.        ,\n",
              "       0.        , 0.        , 0.        , 0.        , 0.        ,\n",
              "       0.        , 0.        , 0.        , 0.        , 0.        ,\n",
              "       0.        , 0.        , 0.        , 0.        , 0.        ,\n",
              "       0.        , 0.        , 0.        , 0.        , 0.        ,\n",
              "       0.        , 0.        , 0.        , 0.        , 0.        ,\n",
              "       0.        , 0.        , 0.        , 0.        , 0.        ,\n",
              "       0.        , 0.        , 0.        , 0.        , 0.        ,\n",
              "       0.        , 0.        , 0.        , 0.        , 0.        ,\n",
              "       0.        , 0.        , 0.        , 0.        , 0.        ,\n",
              "       0.        , 0.        , 0.        , 0.        , 0.        ,\n",
              "       0.        , 0.        , 0.        , 0.        , 0.        ,\n",
              "       0.        , 0.        , 0.        , 0.        , 0.        ,\n",
              "       0.        , 0.        , 0.        , 0.        , 0.        ,\n",
              "       0.        , 0.        , 0.        , 0.        , 0.        ,\n",
              "       0.        , 0.        , 0.        , 0.        , 0.        ,\n",
              "       0.        , 0.        , 0.        , 0.        , 0.        ,\n",
              "       0.        , 0.        , 0.        , 0.        , 0.        ,\n",
              "       0.        , 0.        , 0.        , 0.        , 0.        ,\n",
              "       0.        , 0.        , 0.        , 0.        , 0.        ,\n",
              "       0.        , 0.        , 0.        , 0.        , 0.        ,\n",
              "       0.        , 0.        , 0.        , 0.        , 0.        ,\n",
              "       0.        , 0.        , 0.        , 0.        , 0.        ,\n",
              "       0.        , 0.        , 0.        , 0.        , 0.        ,\n",
              "       0.        , 0.        , 0.        , 0.        , 0.        ,\n",
              "       0.        , 0.        , 0.        , 0.        , 0.        ,\n",
              "       0.        , 0.        , 0.        , 0.        , 0.        ,\n",
              "       0.        , 0.        , 0.        , 0.        , 0.        ,\n",
              "       0.        , 0.        , 0.        , 0.        , 0.        ,\n",
              "       0.        , 0.        , 0.        , 0.        , 0.        ,\n",
              "       0.        , 0.        , 0.        , 0.        , 0.        ,\n",
              "       0.        , 0.        , 0.        , 0.        , 0.        ,\n",
              "       0.        , 0.        , 0.        , 0.        , 0.        ,\n",
              "       0.        , 0.        , 0.        , 0.        , 0.        ,\n",
              "       0.        , 0.        , 0.        , 0.        , 0.        ,\n",
              "       0.        , 0.        , 0.        , 0.        , 0.        ,\n",
              "       0.        , 0.        , 0.        , 0.        , 0.        ,\n",
              "       0.        , 0.        , 0.        , 0.        , 0.        ,\n",
              "       0.        , 0.        , 0.        , 0.        , 0.        ,\n",
              "       0.        , 0.        , 0.        , 0.        , 0.        ,\n",
              "       0.        , 0.        , 0.        , 0.        , 0.        ,\n",
              "       0.        , 0.        , 0.3803922 , 0.37647063, 0.3019608 ,\n",
              "       0.46274513, 0.2392157 , 0.        , 0.        , 0.        ,\n",
              "       0.        , 0.        , 0.        , 0.        , 0.        ,\n",
              "       0.        , 0.        , 0.        , 0.        , 0.        ,\n",
              "       0.        , 0.        , 0.3529412 , 0.5411765 , 0.9215687 ,\n",
              "       0.9215687 , 0.9215687 , 0.9215687 , 0.9215687 , 0.9215687 ,\n",
              "       0.9843138 , 0.9843138 , 0.9725491 , 0.9960785 , 0.9607844 ,\n",
              "       0.9215687 , 0.74509805, 0.08235294, 0.        , 0.        ,\n",
              "       0.        , 0.        , 0.        , 0.        , 0.        ,\n",
              "       0.        , 0.        , 0.        , 0.        , 0.54901963,\n",
              "       0.9843138 , 0.9960785 , 0.9960785 , 0.9960785 , 0.9960785 ,\n",
              "       0.9960785 , 0.9960785 , 0.9960785 , 0.9960785 , 0.9960785 ,\n",
              "       0.9960785 , 0.9960785 , 0.9960785 , 0.9960785 , 0.9960785 ,\n",
              "       0.7411765 , 0.09019608, 0.        , 0.        , 0.        ,\n",
              "       0.        , 0.        , 0.        , 0.        , 0.        ,\n",
              "       0.        , 0.        , 0.8862746 , 0.9960785 , 0.81568635,\n",
              "       0.7803922 , 0.7803922 , 0.7803922 , 0.7803922 , 0.54509807,\n",
              "       0.2392157 , 0.2392157 , 0.2392157 , 0.2392157 , 0.2392157 ,\n",
              "       0.5019608 , 0.8705883 , 0.9960785 , 0.9960785 , 0.7411765 ,\n",
              "       0.08235294, 0.        , 0.        , 0.        , 0.        ,\n",
              "       0.        , 0.        , 0.        , 0.        , 0.        ,\n",
              "       0.14901961, 0.32156864, 0.0509804 , 0.        , 0.        ,\n",
              "       0.        , 0.        , 0.        , 0.        , 0.        ,\n",
              "       0.        , 0.        , 0.        , 0.        , 0.13333334,\n",
              "       0.8352942 , 0.9960785 , 0.9960785 , 0.45098042, 0.        ,\n",
              "       0.        , 0.        , 0.        , 0.        , 0.        ,\n",
              "       0.        , 0.        , 0.        , 0.        , 0.        ,\n",
              "       0.        , 0.        , 0.        , 0.        , 0.        ,\n",
              "       0.        , 0.        , 0.        , 0.        , 0.        ,\n",
              "       0.        , 0.        , 0.        , 0.32941177, 0.9960785 ,\n",
              "       0.9960785 , 0.9176471 , 0.        , 0.        , 0.        ,\n",
              "       0.        , 0.        , 0.        , 0.        , 0.        ,\n",
              "       0.        , 0.        , 0.        , 0.        , 0.        ,\n",
              "       0.        , 0.        , 0.        , 0.        , 0.        ,\n",
              "       0.        , 0.        , 0.        , 0.        , 0.        ,\n",
              "       0.        , 0.32941177, 0.9960785 , 0.9960785 , 0.9176471 ,\n",
              "       0.        , 0.        , 0.        , 0.        , 0.        ,\n",
              "       0.        , 0.        , 0.        , 0.        , 0.        ,\n",
              "       0.        , 0.        , 0.        , 0.        , 0.        ,\n",
              "       0.        , 0.        , 0.        , 0.        , 0.        ,\n",
              "       0.        , 0.        , 0.        , 0.4156863 , 0.6156863 ,\n",
              "       0.9960785 , 0.9960785 , 0.95294124, 0.20000002, 0.        ,\n",
              "       0.        , 0.        , 0.        , 0.        , 0.        ,\n",
              "       0.        , 0.        , 0.        , 0.        , 0.        ,\n",
              "       0.        , 0.        , 0.        , 0.        , 0.        ,\n",
              "       0.        , 0.09803922, 0.45882356, 0.8941177 , 0.8941177 ,\n",
              "       0.8941177 , 0.9921569 , 0.9960785 , 0.9960785 , 0.9960785 ,\n",
              "       0.9960785 , 0.94117653, 0.        , 0.        , 0.        ,\n",
              "       0.        , 0.        , 0.        , 0.        , 0.        ,\n",
              "       0.        , 0.        , 0.        , 0.        , 0.        ,\n",
              "       0.        , 0.        , 0.26666668, 0.4666667 , 0.86274517,\n",
              "       0.9960785 , 0.9960785 , 0.9960785 , 0.9960785 , 0.9960785 ,\n",
              "       0.9960785 , 0.9960785 , 0.9960785 , 0.9960785 , 0.5568628 ,\n",
              "       0.        , 0.        , 0.        , 0.        , 0.        ,\n",
              "       0.        , 0.        , 0.        , 0.        , 0.        ,\n",
              "       0.        , 0.        , 0.        , 0.14509805, 0.73333335,\n",
              "       0.9921569 , 0.9960785 , 0.9960785 , 0.9960785 , 0.8745099 ,\n",
              "       0.8078432 , 0.8078432 , 0.29411766, 0.26666668, 0.8431373 ,\n",
              "       0.9960785 , 0.9960785 , 0.45882356, 0.        , 0.        ,\n",
              "       0.        , 0.        , 0.        , 0.        , 0.        ,\n",
              "       0.        , 0.        , 0.        , 0.        , 0.        ,\n",
              "       0.4431373 , 0.8588236 , 0.9960785 , 0.9490197 , 0.89019614,\n",
              "       0.45098042, 0.34901962, 0.12156864, 0.        , 0.        ,\n",
              "       0.        , 0.        , 0.7843138 , 0.9960785 , 0.9450981 ,\n",
              "       0.16078432, 0.        , 0.        , 0.        , 0.        ,\n",
              "       0.        , 0.        , 0.        , 0.        , 0.        ,\n",
              "       0.        , 0.        , 0.        , 0.6627451 , 0.9960785 ,\n",
              "       0.6901961 , 0.24313727, 0.        , 0.        , 0.        ,\n",
              "       0.        , 0.        , 0.        , 0.        , 0.18823531,\n",
              "       0.9058824 , 0.9960785 , 0.9176471 , 0.        , 0.        ,\n",
              "       0.        , 0.        , 0.        , 0.        , 0.        ,\n",
              "       0.        , 0.        , 0.        , 0.        , 0.        ,\n",
              "       0.        , 0.07058824, 0.48627454, 0.        , 0.        ,\n",
              "       0.        , 0.        , 0.        , 0.        , 0.        ,\n",
              "       0.        , 0.        , 0.32941177, 0.9960785 , 0.9960785 ,\n",
              "       0.6509804 , 0.        , 0.        , 0.        , 0.        ,\n",
              "       0.        , 0.        , 0.        , 0.        , 0.        ,\n",
              "       0.        , 0.        , 0.        , 0.        , 0.        ,\n",
              "       0.        , 0.        , 0.        , 0.        , 0.        ,\n",
              "       0.        , 0.        , 0.        , 0.        , 0.        ,\n",
              "       0.54509807, 0.9960785 , 0.9333334 , 0.22352943, 0.        ,\n",
              "       0.        , 0.        , 0.        , 0.        , 0.        ,\n",
              "       0.        , 0.        , 0.        , 0.        , 0.        ,\n",
              "       0.        , 0.        , 0.        , 0.        , 0.        ,\n",
              "       0.        , 0.        , 0.        , 0.        , 0.        ,\n",
              "       0.        , 0.        , 0.8235295 , 0.9803922 , 0.9960785 ,\n",
              "       0.65882355, 0.        , 0.        , 0.        , 0.        ,\n",
              "       0.        , 0.        , 0.        , 0.        , 0.        ,\n",
              "       0.        , 0.        , 0.        , 0.        , 0.        ,\n",
              "       0.        , 0.        , 0.        , 0.        , 0.        ,\n",
              "       0.        , 0.        , 0.        , 0.        , 0.        ,\n",
              "       0.9490197 , 0.9960785 , 0.93725497, 0.22352943, 0.        ,\n",
              "       0.        , 0.        , 0.        , 0.        , 0.        ,\n",
              "       0.        , 0.        , 0.        , 0.        , 0.        ,\n",
              "       0.        , 0.        , 0.        , 0.        , 0.        ,\n",
              "       0.        , 0.        , 0.        , 0.        , 0.        ,\n",
              "       0.        , 0.        , 0.34901962, 0.9843138 , 0.9450981 ,\n",
              "       0.3372549 , 0.        , 0.        , 0.        , 0.        ,\n",
              "       0.        , 0.        , 0.        , 0.        , 0.        ,\n",
              "       0.        , 0.        , 0.        , 0.        , 0.        ,\n",
              "       0.        , 0.        , 0.        , 0.        , 0.        ,\n",
              "       0.        , 0.        , 0.        , 0.        , 0.01960784,\n",
              "       0.8078432 , 0.96470594, 0.6156863 , 0.        , 0.        ,\n",
              "       0.        , 0.        , 0.        , 0.        , 0.        ,\n",
              "       0.        , 0.        , 0.        , 0.        , 0.        ,\n",
              "       0.        , 0.        , 0.        , 0.        , 0.        ,\n",
              "       0.        , 0.        , 0.        , 0.        , 0.        ,\n",
              "       0.        , 0.        , 0.01568628, 0.45882356, 0.27058825,\n",
              "       0.        , 0.        , 0.        , 0.        , 0.        ,\n",
              "       0.        , 0.        , 0.        , 0.        , 0.        ,\n",
              "       0.        , 0.        , 0.        , 0.        , 0.        ,\n",
              "       0.        , 0.        , 0.        , 0.        , 0.        ,\n",
              "       0.        , 0.        , 0.        , 0.        , 0.        ,\n",
              "       0.        , 0.        , 0.        , 0.        , 0.        ,\n",
              "       0.        , 0.        , 0.        , 0.        , 0.        ,\n",
              "       0.        , 0.        , 0.        , 0.        ], dtype=float32)"
            ]
          },
          "metadata": {
            "tags": []
          },
          "execution_count": 30
        }
      ]
    },
    {
      "cell_type": "code",
      "metadata": {
        "colab_type": "code",
        "id": "5Lz7Z0w164wa",
        "colab": {
          "base_uri": "https://localhost:8080/",
          "height": 466
        },
        "outputId": "e67d18f8-db5d-4610-c36d-f392f358125f"
      },
      "source": [
        "# Let's resize and plot the first image\n",
        "img_matrix = images[0,:].reshape((28, 28))\n",
        "plt.imshow(img_matrix, plt.get_cmap('gray'));\n",
        "plt.axis('off')\n",
        "plt.show()"
      ],
      "execution_count": 31,
      "outputs": [
        {
          "output_type": "display_data",
          "data": {
            "image/png": "[encoded data removed]",
            "text/plain": [
              "<Figure size 720x576 with 1 Axes>"
            ]
          },
          "metadata": {
            "tags": [],
            "needs_background": "light"
          }
        }
      ]
    },
    {
      "cell_type": "markdown",
      "metadata": {
        "colab_type": "text",
        "id": "IhZI1zCV8MIB"
      },
      "source": [
        "What is the label of this image?"
      ]
    },
    {
      "cell_type": "code",
      "metadata": {
        "colab_type": "code",
        "id": "zyNG9jTt8Qyu",
        "colab": {
          "base_uri": "https://localhost:8080/",
          "height": 34
        },
        "outputId": "b9bb5b7f-395a-449e-a4b9-5fbfa8e834e6"
      },
      "source": [
        "print (f\"Correct label of the first image is: {labels[0]}\")"
      ],
      "execution_count": 32,
      "outputs": [
        {
          "output_type": "stream",
          "text": [
            "Correct label of the first image is: 7\n"
          ],
          "name": "stdout"
        }
      ]
    },
    {
      "cell_type": "markdown",
      "metadata": {
        "colab_type": "text",
        "id": "X3bKSXt28y8T"
      },
      "source": [
        "### Subsampling\n",
        "\n",
        "Although, in practice you typically want to use as much data as possible to train your models, large datasets are not very suitable for experimenting and visualization -- it is just too annoying to have to wait minutes for each step to continue. Thus, 55000 examples is a bit too much for our purposes, so why not to sample just 2000."
      ]
    },
    {
      "cell_type": "code",
      "metadata": {
        "colab_type": "code",
        "id": "SDDMSi-29R72",
        "colab": {}
      },
      "source": [
        "train_images = images[0:2000,:]\n",
        "train_labels = labels[0:2000]\n",
        "\n",
        "test_images = images[2000:3000,:]\n",
        "test_labels = labels[2000:3000]"
      ],
      "execution_count": 33,
      "outputs": []
    },
    {
      "cell_type": "code",
      "metadata": {
        "id": "8TK7qP_m-H9A",
        "colab_type": "code",
        "colab": {
          "base_uri": "https://localhost:8080/",
          "height": 34
        },
        "outputId": "539251a0-5f26-4798-e6e5-233588c56918"
      },
      "source": [
        "train_labels[0:5]"
      ],
      "execution_count": 34,
      "outputs": [
        {
          "output_type": "execute_result",
          "data": {
            "text/plain": [
              "array([7, 3, 4, 6, 1], dtype=uint8)"
            ]
          },
          "metadata": {
            "tags": []
          },
          "execution_count": 34
        }
      ]
    },
    {
      "cell_type": "code",
      "metadata": {
        "colab_type": "code",
        "id": "U01rOKxi9S8K",
        "colab": {
          "base_uri": "https://localhost:8080/",
          "height": 482
        },
        "outputId": "7b973a3a-5c9d-469e-af3f-fc708627d27d"
      },
      "source": [
        "# We should make sure that the distribution is more or less uniform across our samples\n",
        "plt.hist(train_labels);"
      ],
      "execution_count": 35,
      "outputs": [
        {
          "output_type": "display_data",
          "data": {
            "image/png": "[encoded data removed]",
            "text/plain": [
              "<Figure size 720x576 with 1 Axes>"
            ]
          },
          "metadata": {
            "tags": [],
            "needs_background": "light"
          }
        }
      ]
    },
    {
      "cell_type": "markdown",
      "metadata": {
        "colab_type": "text",
        "id": "vqX3QBjzpOhl"
      },
      "source": [
        "Let's see some more examples from all classes."
      ]
    },
    {
      "cell_type": "code",
      "metadata": {
        "id": "SyfwOSUjo471",
        "colab_type": "code",
        "colab": {
          "base_uri": "https://localhost:8080/",
          "height": 190
        },
        "outputId": "528e9fb7-bcf9-4a28-cd9c-199ff6cfcc42"
      },
      "source": [
        "vec =  ['0', '1', '2', '3', '4', '5', '6', '7', '8', '9']\n",
        "for i, cls in enumerate(vec):\n",
        "  print((i,cls))"
      ],
      "execution_count": 36,
      "outputs": [
        {
          "output_type": "stream",
          "text": [
            "(0, '0')\n",
            "(1, '1')\n",
            "(2, '2')\n",
            "(3, '3')\n",
            "(4, '4')\n",
            "(5, '5')\n",
            "(6, '6')\n",
            "(7, '7')\n",
            "(8, '8')\n",
            "(9, '9')\n"
          ],
          "name": "stdout"
        }
      ]
    },
    {
      "cell_type": "code",
      "metadata": {
        "colab_type": "code",
        "id": "2quhKyr2pOhl",
        "colab": {
          "base_uri": "https://localhost:8080/",
          "height": 649
        },
        "outputId": "c4a9cf12-4809-4ada-90ea-3c56d858d927"
      },
      "source": [
        "plt.rcParams['figure.figsize'] = (10.0, 8.0) # set default size of plots\n",
        "# \"Names\" of classes:\n",
        "classes =  ['0', '1', '2', '3', '4', '5', '6', '7', '8', '9']\n",
        "\n",
        "num_classes = len(classes)\n",
        "samples_per_class = 7 # Number of images from each class we want to see\n",
        "for y, cls in enumerate(classes):\n",
        "    idxs = np.flatnonzero(train_labels == y)\n",
        "    idxs = np.random.choice(idxs, samples_per_class, replace=False)\n",
        "    print(idxs)\n",
        "    for i, idx in enumerate(idxs):\n",
        "        plt_idx = i * num_classes + y + 1\n",
        "        plt.subplot(samples_per_class, num_classes, plt_idx)\n",
        "        plt.imshow(train_images[idx].reshape((28, 28)), plt.get_cmap('gray'))\n",
        "        plt.axis('off')\n",
        "        if i == 0:\n",
        "            plt.title(cls)\n",
        "plt.show()"
      ],
      "execution_count": 37,
      "outputs": [
        {
          "output_type": "stream",
          "text": [
            "[1883 1614 1935 1738  690  563  317]\n",
            "[1499  864 1617 1511  114  174  176]\n",
            "[1637 1465   16  900 1780  509  449]\n",
            "[ 728 1059  148 1405 1719  838 1123]\n",
            "[ 295 1778   33  580   32 1268 1462]\n",
            "[1840  934 1151 1471  620  839  188]\n",
            "[1578 1396  739  231  913  962  126]\n",
            "[1064  283  564  326 1713   49 1241]\n",
            "[ 699 1288  220   29 1512 1335 1622]\n",
            "[1779  316  137 1741  532  209 1191]\n"
          ],
          "name": "stdout"
        },
        {
          "output_type": "display_data",
          "data": {
            "image/png": "[encoded data removed]",
            "text/plain": [
              "<Figure size 720x576 with 70 Axes>"
            ]
          },
          "metadata": {
            "tags": [],
            "needs_background": "light"
          }
        }
      ]
    },
    {
      "cell_type": "markdown",
      "metadata": {
        "colab_type": "text",
        "id": "eQH4v-HBeqCX"
      },
      "source": [
        "**Classroom exercise**: Let's define a distance function, let it be Eucledian distance (L2)"
      ]
    },
    {
      "cell_type": "code",
      "metadata": {
        "id": "CmZvVgN0_mgm",
        "colab_type": "code",
        "colab": {}
      },
      "source": [
        "# img1 and img2[:784]\n",
        "np.sqrt(np.sum((img1 - img2)**2))"
      ],
      "execution_count": 41,
      "outputs": []
    },
    {
      "cell_type": "code",
      "metadata": {
        "colab_type": "code",
        "id": "SGcd0I9teqCY",
        "colab": {}
      },
      "source": [
        "def dist(img1, img2):\n",
        "  ##### YOUR CODE STARTS #####\n",
        "  return(np.sqrt(np.sum((img1 - img2)**2)))\n",
        "  ##### YOUR CODE ENDS ##### (please do not delete this line)"
      ],
      "execution_count": 42,
      "outputs": []
    },
    {
      "cell_type": "markdown",
      "metadata": {
        "colab_type": "text",
        "id": "3yZpyMGQ2vtJ"
      },
      "source": [
        "Check the validity of the function here:"
      ]
    },
    {
      "cell_type": "code",
      "metadata": {
        "colab_type": "code",
        "id": "DGzbw4iDy2q8",
        "colab": {
          "base_uri": "https://localhost:8080/",
          "height": 34
        },
        "outputId": "8805829e-4ecd-415c-845a-a4a8b31d8ee7"
      },
      "source": [
        "print(f\"Distance between first two images is {dist(train_images[0], train_images[1])} and should be about 11.858\")"
      ],
      "execution_count": 43,
      "outputs": [
        {
          "output_type": "stream",
          "text": [
            "Distance between first two images is 11.85839557647705 and should be about 11.858\n"
          ],
          "name": "stdout"
        }
      ]
    },
    {
      "cell_type": "markdown",
      "metadata": {
        "colab_type": "text",
        "id": "_2mAqlYAeqCc"
      },
      "source": [
        "You can play with the defined function below. Check that the distance between images of the same digit is typically smaller than the distance between images of different digits."
      ]
    },
    {
      "cell_type": "code",
      "metadata": {
        "colab_type": "code",
        "id": "yv5jbMDIeqCd",
        "colab": {
          "base_uri": "https://localhost:8080/",
          "height": 52
        },
        "outputId": "85fddbc3-7c35-4ac2-b79d-a3d6728d237b"
      },
      "source": [
        "print(f\"Distance between image with a class {train_labels[1]} and class {train_labels[3]} is {dist(train_images[1], train_images[3])}\")\n",
        "print(f\"Distance between image with a class {train_labels[1]} and class {train_labels[11]} is {dist(train_images[1], train_images[11])}\")"
      ],
      "execution_count": 44,
      "outputs": [
        {
          "output_type": "stream",
          "text": [
            "Distance between image with a class 3 and class 6 is 10.872645378112793\n",
            "Distance between image with a class 3 and class 3 is 8.07426929473877\n"
          ],
          "name": "stdout"
        }
      ]
    },
    {
      "cell_type": "markdown",
      "metadata": {
        "colab_type": "text",
        "id": "Q1OhO80neqCg"
      },
      "source": [
        "Now the actual algorithm. It consists of three steps.\n",
        "\n",
        "1. Compute distances to all points in the dataset\n",
        "2. Find the closest point, and \n",
        "3. Report the corresponding label.\n",
        "\n",
        "**Classroom exercise**: Implement the three steps.\n",
        "\n",
        "We shall do it gently. First we pick a sample image that we will be classifying. Let us say that the first image from the `test_images` is an unknown image sent by our friend:"
      ]
    },
    {
      "cell_type": "code",
      "metadata": {
        "colab_type": "code",
        "id": "XZUcvMUkdizm",
        "colab": {}
      },
      "source": [
        "test_image = test_images[0]\n",
        "test_label = test_labels[0]"
      ],
      "execution_count": 46,
      "outputs": []
    },
    {
      "cell_type": "code",
      "metadata": {
        "colab_type": "code",
        "id": "XUREtv7yeqCh",
        "colab": {
          "base_uri": "https://localhost:8080/",
          "height": 466
        },
        "outputId": "a854b93a-9b89-41af-8f1f-5c85fac1482a"
      },
      "source": [
        "img_matrix = test_image.reshape((28, 28))\n",
        "plt.imshow(img_matrix, plt.get_cmap('gray'));\n",
        "plt.axis('off')\n",
        "plt.show()"
      ],
      "execution_count": 47,
      "outputs": [
        {
          "output_type": "display_data",
          "data": {
            "image/png": "[encoded data removed]",
            "text/plain": [
              "<Figure size 720x576 with 1 Axes>"
            ]
          },
          "metadata": {
            "tags": [],
            "needs_background": "light"
          }
        }
      ]
    },
    {
      "cell_type": "markdown",
      "metadata": {
        "colab_type": "text",
        "id": "K5C5pdgYeqCk"
      },
      "source": [
        "**Classroom exercise:** compute all distances from the `test_image` to the `train_images` in the dataset"
      ]
    },
    {
      "cell_type": "code",
      "metadata": {
        "id": "zdWWHFVFC1XF",
        "colab_type": "code",
        "colab": {
          "base_uri": "https://localhost:8080/",
          "height": 34
        },
        "outputId": "2c3bc7e5-ec8f-4561-9938-390e5414863a"
      },
      "source": [
        "dist(test_image, train_images[2])"
      ],
      "execution_count": 48,
      "outputs": [
        {
          "output_type": "execute_result",
          "data": {
            "text/plain": [
              "9.084774"
            ]
          },
          "metadata": {
            "tags": []
          },
          "execution_count": 48
        }
      ]
    },
    {
      "cell_type": "code",
      "metadata": {
        "colab_type": "code",
        "id": "-wSVGX-ZeqCk",
        "colab": {
          "base_uri": "https://localhost:8080/",
          "height": 34
        },
        "outputId": "063c9a43-7275-4d57-e23a-f3c7683cac11"
      },
      "source": [
        "##### YOUR CODE STARTS #####\n",
        "#TODO\n",
        "all_distances = [dist(test_image, train_image) for train_image in train_images]\n",
        "##### YOUR CODE ENDS ##### (please do not delete this line)\n",
        "all_distances[0:5]"
      ],
      "execution_count": 49,
      "outputs": [
        {
          "output_type": "execute_result",
          "data": {
            "text/plain": [
              "[10.115574, 9.505396, 9.084774, 9.745117, 8.398525]"
            ]
          },
          "metadata": {
            "tags": []
          },
          "execution_count": 49
        }
      ]
    },
    {
      "cell_type": "markdown",
      "metadata": {
        "colab_type": "text",
        "id": "NmGWAy6seqCm"
      },
      "source": [
        "Now let's find out which image is closest to our `test_image`"
      ]
    },
    {
      "cell_type": "code",
      "metadata": {
        "colab_type": "code",
        "id": "fF6B4I-beqCn",
        "colab": {}
      },
      "source": [
        "i = np.argmin(all_distances)"
      ],
      "execution_count": 51,
      "outputs": []
    },
    {
      "cell_type": "markdown",
      "metadata": {
        "colab_type": "text",
        "id": "tuM8j03ueqCq"
      },
      "source": [
        "Almost done, now report a label with index `i` in `train_labels`"
      ]
    },
    {
      "cell_type": "code",
      "metadata": {
        "colab_type": "code",
        "id": "x6CEvuHEeqCq",
        "colab": {}
      },
      "source": [
        "predicted_label = train_labels[i]"
      ],
      "execution_count": 52,
      "outputs": []
    },
    {
      "cell_type": "markdown",
      "metadata": {
        "colab_type": "text",
        "id": "gPqeP2-reqCt"
      },
      "source": [
        "Compare it to the true label of the first image in the `train_labels`"
      ]
    },
    {
      "cell_type": "code",
      "metadata": {
        "colab_type": "code",
        "id": "rCn1qwKoeqCz",
        "colab": {
          "base_uri": "https://localhost:8080/",
          "height": 34
        },
        "outputId": "292fc34a-44d9-4550-cb7f-2cd56f8d5285"
      },
      "source": [
        "print(f\"Predicted class for the first image is {predicted_label} and the true label is {test_label}\")"
      ],
      "execution_count": 53,
      "outputs": [
        {
          "output_type": "stream",
          "text": [
            "Predicted class for the first image is 8 and the true label is 8\n"
          ],
          "name": "stdout"
        }
      ]
    },
    {
      "cell_type": "markdown",
      "metadata": {
        "colab_type": "text",
        "id": "JmMSNVMqfgjk"
      },
      "source": [
        "Here we can visualise the nearest in terms of the Eucledian distance image from the `train_images`"
      ]
    },
    {
      "cell_type": "code",
      "metadata": {
        "colab_type": "code",
        "id": "Vhdry7k2eqC1",
        "colab": {
          "base_uri": "https://localhost:8080/",
          "height": 466
        },
        "outputId": "b1858218-ef4f-4f0e-ea4b-c16bbbc22d9b"
      },
      "source": [
        "img_matrix = train_images[i,:].reshape((28, 28))\n",
        "plt.imshow(img_matrix, plt.get_cmap('gray'));\n",
        "plt.axis('off')\n",
        "plt.show()"
      ],
      "execution_count": null,
      "outputs": [
        {
          "output_type": "display_data",
          "data": {
            "image/png": "[encoded data removed]",
            "text/plain": [
              "<Figure size 720x576 with 1 Axes>"
            ]
          },
          "metadata": {
            "tags": [],
            "needs_background": "light"
          }
        }
      ]
    },
    {
      "cell_type": "markdown",
      "metadata": {
        "colab_type": "text",
        "id": "mKBRz8GNeqC4"
      },
      "source": [
        "**Classroom exercise:** Now we should make a function out of the code we have already written. "
      ]
    },
    {
      "cell_type": "code",
      "metadata": {
        "colab_type": "code",
        "id": "V50nuLureqC5",
        "colab": {}
      },
      "source": [
        "def classify(image):\n",
        "  ##### YOUR CODE STARTS #####\n",
        "  all_distances = [dist(image, train_image) for train_image in train_images]\n",
        "  i = np.argmin(all_distances)\n",
        "  prediction = train_labels[i] \n",
        "  ##### YOUR CODE ENDS ##### (please do not delete this line)\n",
        "  return prediction"
      ],
      "execution_count": 55,
      "outputs": []
    },
    {
      "cell_type": "markdown",
      "metadata": {
        "colab_type": "text",
        "id": "lf4oXlzteqC8"
      },
      "source": [
        "Let's test this function to verify that it works"
      ]
    },
    {
      "cell_type": "code",
      "metadata": {
        "colab_type": "code",
        "id": "T0_npOGYeqC-",
        "colab": {
          "base_uri": "https://localhost:8080/",
          "height": 34
        },
        "outputId": "7ab86556-d8c4-4c2e-ff43-506023d52b6b"
      },
      "source": [
        "print(f\"Predicted class for the first image is {classify(test_images[15])} and the true label is {test_labels[15]}\")"
      ],
      "execution_count": 117,
      "outputs": [
        {
          "output_type": "stream",
          "text": [
            "Predicted class for the first image is 6 and the true label is 6\n"
          ],
          "name": "stdout"
        }
      ]
    },
    {
      "cell_type": "markdown",
      "metadata": {
        "colab_type": "text",
        "id": "8s9g__SbqW30"
      },
      "source": [
        "One very popular variation of Nearest Neighbour is K-nearest neighbour. In this algorithm a label for a new instance is chosen by majority vote by **`k`** of its nearest neighbors. \n",
        "\n",
        "The actual algorithm is not very different from vanila nearest neighbour:\n",
        "\n",
        "1. Compute distances to all points in the dataset\n",
        "2. Find the **`k`** closest points (you may consider using `np.argsort` function)\n",
        "3. Report the most popular label from these **`k`**. (maybe `np.bincount` can help)"
      ]
    },
    {
      "cell_type": "markdown",
      "metadata": {
        "colab_type": "text",
        "id": "tz9XASPxeqDC"
      },
      "source": [
        "## Homework exercise 1 (2 points): KNN"
      ]
    },
    {
      "cell_type": "markdown",
      "metadata": {
        "id": "rtuWU_bTw8bf",
        "colab_type": "text"
      },
      "source": [
        "<font color='red'>**(Homework exercise 1- a)** Implement the aformentioned algorithm in the cell below (1.5 point)</font>"
      ]
    },
    {
      "cell_type": "code",
      "metadata": {
        "id": "5MQRSjEYuSW3",
        "colab_type": "code",
        "colab": {
          "base_uri": "https://localhost:8080/",
          "height": 34
        },
        "outputId": "a0b1a53c-3c46-471e-ea53-2c9749504c76"
      },
      "source": [
        "#  k = []\n",
        "# iter = 4\n",
        "# trial = [5,2,9,1,7,6]\n",
        "# sortedarr = np.argsort(trial)\n",
        "# n = [sortedarr[s] for s in range(iter)]\n",
        "# n\n",
        "n = [4,1,5,2,7,4,5,4,7]\n",
        "print(np.bincount(n),np.bincount(n).max())\n",
        "print(np.argmax(np.bincount(n)))"
      ],
      "execution_count": 106,
      "outputs": [
        {
          "output_type": "execute_result",
          "data": {
            "text/plain": [
              "[3, 1, 0, 5]"
            ]
          },
          "metadata": {
            "tags": []
          },
          "execution_count": 106
        }
      ]
    },
    {
      "cell_type": "code",
      "metadata": {
        "colab_type": "code",
        "id": "J91vFM8yeqDC",
        "colab": {}
      },
      "source": [
        "def classify_knn(image, k):\n",
        "  ##### YOUR CODE STARTS #####\n",
        "\n",
        "  all_distances = [dist(image, train_image) for train_image in train_images]\n",
        "  sortedarr = np.argsort(all_distances)\n",
        "  x = [sortedarr[s] for s in range(k)]\n",
        "  popular_class = np.argmax(np.bincount(x))\n",
        "  prediction = train_labels[popular_class]\n",
        "  \n",
        "  ##### YOUR CODE ENDS ##### (please do not delete this line)\n",
        "  return prediction"
      ],
      "execution_count": 107,
      "outputs": []
    },
    {
      "cell_type": "markdown",
      "metadata": {
        "colab_type": "text",
        "id": "lpP9LIhWeqDE"
      },
      "source": [
        "Test the function on `test_image`:"
      ]
    },
    {
      "cell_type": "code",
      "metadata": {
        "colab_type": "code",
        "id": "a1ZjNWxzeqDF",
        "colab": {
          "base_uri": "https://localhost:8080/",
          "height": 34
        },
        "outputId": "14acf4b0-c77c-4b12-b19f-239828a3f148"
      },
      "source": [
        "print(f\"Predicted class for the first image is {classify_knn(test_image, 10)} and the true label is {test_label}\")"
      ],
      "execution_count": 116,
      "outputs": [
        {
          "output_type": "stream",
          "text": [
            "Predicted class for the first image is 8 and the true label is 8\n"
          ],
          "name": "stdout"
        }
      ]
    },
    {
      "cell_type": "markdown",
      "metadata": {
        "colab_type": "text",
        "id": "RkIbSADBjCpB"
      },
      "source": [
        "<font color='red'>**(Homework exercise 1- b)** Modify the function `classify_knn` adding a print statement that outputs labels of K nearest labels. Report 10 nearest neighbours  for the `test_image`. Explain its output in the cell below. (0.5 points) </font>"
      ]
    },
    {
      "cell_type": "markdown",
      "metadata": {
        "colab_type": "text",
        "id": "TzlSQ4zPqj-J"
      },
      "source": [
        "Answer to (b): I think that in this exercise we are implementing the k nearest nighbour algorithm. we are calculating all distances then we are getting the indexs of the sorted list. then we calculating the most popular class and returing the label of that image. "
      ]
    },
    {
      "cell_type": "markdown",
      "metadata": {
        "colab_type": "text",
        "id": "YKcSRNayg9r7"
      },
      "source": [
        "Seems like Nearest Neighbor works, indeed! Apply it to all 1000 test images and then estimate it's effectivness.\n",
        "\n",
        "**Classroom exercise:** Classify all test images and store them into a separate variable `test_predicted`, choose `k` = 10. **NB, don't forget to uncomment all print statements inside the function!**"
      ]
    },
    {
      "cell_type": "code",
      "metadata": {
        "colab_type": "code",
        "id": "a6YUZqNLdiI9",
        "colab": {
          "base_uri": "https://localhost:8080/",
          "height": 34
        },
        "outputId": "4e20e8d9-82ef-4690-cc84-dc2bb354ee62"
      },
      "source": [
        "classify_knn(test_image, 10)"
      ],
      "execution_count": 118,
      "outputs": [
        {
          "output_type": "execute_result",
          "data": {
            "text/plain": [
              "8"
            ]
          },
          "metadata": {
            "tags": []
          },
          "execution_count": 118
        }
      ]
    },
    {
      "cell_type": "code",
      "metadata": {
        "colab_type": "code",
        "id": "8oIBNn6YgbK9",
        "colab": {}
      },
      "source": [
        "test_predicted = [classify(image) for image in test_images]"
      ],
      "execution_count": 119,
      "outputs": []
    },
    {
      "cell_type": "code",
      "metadata": {
        "id": "jIhxhO48H7Jl",
        "colab_type": "code",
        "colab": {}
      },
      "source": [
        "test_predicted"
      ],
      "execution_count": null,
      "outputs": []
    },
    {
      "cell_type": "code",
      "metadata": {
        "id": "x1H-FUBwIeoW",
        "colab_type": "code",
        "colab": {
          "base_uri": "https://localhost:8080/",
          "height": 1000
        },
        "outputId": "6598ba36-7f2e-4f24-ce1f-37643a90a278"
      },
      "source": [
        "test_labels == test_predicted"
      ],
      "execution_count": 121,
      "outputs": [
        {
          "output_type": "execute_result",
          "data": {
            "text/plain": [
              "array([ True,  True,  True,  True,  True,  True,  True,  True,  True,\n",
              "       False, False, False,  True,  True,  True,  True, False,  True,\n",
              "        True,  True,  True,  True,  True,  True,  True,  True,  True,\n",
              "        True,  True,  True,  True,  True,  True,  True, False,  True,\n",
              "       False,  True,  True,  True,  True,  True,  True,  True,  True,\n",
              "        True,  True,  True,  True,  True,  True,  True,  True,  True,\n",
              "        True,  True,  True,  True, False,  True,  True,  True,  True,\n",
              "        True,  True,  True,  True,  True,  True,  True,  True,  True,\n",
              "        True,  True,  True,  True, False, False,  True,  True, False,\n",
              "        True,  True,  True,  True,  True,  True,  True,  True,  True,\n",
              "        True,  True,  True,  True,  True,  True,  True, False,  True,\n",
              "        True, False, False,  True,  True,  True,  True,  True,  True,\n",
              "        True,  True,  True,  True,  True,  True,  True,  True,  True,\n",
              "        True,  True,  True,  True,  True,  True,  True,  True,  True,\n",
              "        True,  True,  True,  True,  True,  True, False,  True, False,\n",
              "        True, False,  True,  True,  True, False,  True, False,  True,\n",
              "        True,  True, False,  True,  True,  True,  True,  True,  True,\n",
              "        True,  True,  True,  True,  True,  True,  True,  True,  True,\n",
              "        True,  True,  True,  True,  True,  True, False,  True,  True,\n",
              "        True, False,  True,  True,  True,  True,  True,  True,  True,\n",
              "        True,  True,  True,  True,  True,  True, False,  True,  True,\n",
              "       False,  True,  True, False,  True,  True,  True,  True,  True,\n",
              "        True, False,  True,  True,  True,  True,  True,  True,  True,\n",
              "        True,  True,  True,  True,  True,  True,  True,  True, False,\n",
              "        True, False,  True,  True,  True,  True,  True,  True,  True,\n",
              "       False, False, False,  True, False,  True, False,  True, False,\n",
              "        True,  True,  True,  True, False,  True,  True,  True, False,\n",
              "        True,  True,  True,  True,  True,  True,  True,  True,  True,\n",
              "        True,  True,  True,  True, False,  True,  True,  True,  True,\n",
              "        True,  True,  True, False,  True,  True,  True,  True,  True,\n",
              "       False,  True,  True,  True,  True,  True, False,  True,  True,\n",
              "        True,  True,  True, False,  True,  True,  True,  True, False,\n",
              "        True,  True,  True,  True,  True,  True,  True,  True, False,\n",
              "        True,  True, False, False,  True,  True,  True,  True,  True,\n",
              "        True,  True, False,  True,  True,  True,  True, False,  True,\n",
              "        True,  True,  True,  True,  True,  True,  True,  True,  True,\n",
              "        True,  True,  True,  True,  True, False,  True,  True,  True,\n",
              "        True,  True, False,  True, False,  True,  True,  True,  True,\n",
              "        True,  True,  True,  True,  True,  True,  True,  True, False,\n",
              "       False,  True,  True, False,  True,  True,  True,  True,  True,\n",
              "        True,  True,  True,  True,  True, False,  True,  True,  True,\n",
              "        True,  True,  True,  True,  True, False, False,  True,  True,\n",
              "        True,  True,  True,  True,  True, False,  True,  True, False,\n",
              "       False,  True,  True,  True,  True,  True,  True,  True,  True,\n",
              "        True,  True,  True,  True, False,  True,  True,  True,  True,\n",
              "        True,  True,  True,  True,  True,  True,  True,  True,  True,\n",
              "        True,  True,  True,  True,  True,  True,  True,  True,  True,\n",
              "        True,  True,  True,  True,  True,  True,  True,  True,  True,\n",
              "        True,  True,  True,  True,  True,  True, False,  True,  True,\n",
              "        True,  True,  True,  True,  True,  True,  True,  True,  True,\n",
              "       False,  True,  True,  True,  True,  True,  True,  True,  True,\n",
              "       False,  True,  True,  True,  True,  True,  True,  True,  True,\n",
              "        True,  True,  True,  True,  True,  True,  True,  True,  True,\n",
              "        True, False,  True,  True,  True,  True,  True,  True,  True,\n",
              "        True,  True,  True, False,  True,  True,  True,  True,  True,\n",
              "        True,  True,  True, False,  True,  True,  True,  True,  True,\n",
              "        True,  True,  True,  True,  True,  True,  True,  True, False,\n",
              "        True,  True,  True,  True, False,  True,  True,  True, False,\n",
              "        True,  True,  True,  True,  True,  True, False,  True, False,\n",
              "       False,  True,  True,  True,  True,  True,  True, False,  True,\n",
              "        True,  True,  True,  True,  True,  True,  True, False,  True,\n",
              "        True,  True,  True,  True,  True,  True,  True,  True,  True,\n",
              "        True,  True,  True,  True,  True,  True,  True,  True,  True,\n",
              "        True,  True, False, False,  True,  True,  True,  True,  True,\n",
              "        True,  True,  True,  True,  True,  True,  True,  True, False,\n",
              "        True,  True,  True,  True,  True,  True,  True,  True,  True,\n",
              "        True,  True,  True, False,  True,  True,  True,  True,  True,\n",
              "        True,  True,  True, False,  True,  True,  True,  True,  True,\n",
              "        True,  True,  True,  True,  True,  True,  True,  True,  True,\n",
              "        True,  True,  True,  True,  True,  True,  True,  True,  True,\n",
              "        True,  True,  True,  True,  True,  True, False,  True, False,\n",
              "        True,  True,  True, False,  True,  True,  True,  True,  True,\n",
              "        True,  True,  True,  True,  True,  True,  True,  True,  True,\n",
              "        True,  True,  True,  True,  True,  True,  True,  True,  True,\n",
              "        True,  True,  True,  True,  True,  True,  True,  True, False,\n",
              "       False,  True,  True, False,  True,  True,  True,  True,  True,\n",
              "        True,  True,  True,  True,  True,  True,  True,  True, False,\n",
              "        True,  True,  True,  True,  True,  True,  True,  True,  True,\n",
              "        True,  True, False,  True,  True,  True,  True,  True,  True,\n",
              "        True,  True,  True,  True,  True,  True,  True,  True,  True,\n",
              "        True,  True,  True,  True,  True,  True, False,  True,  True,\n",
              "        True,  True,  True, False,  True,  True,  True,  True,  True,\n",
              "       False,  True,  True, False,  True,  True,  True,  True,  True,\n",
              "        True,  True,  True,  True,  True,  True,  True,  True,  True,\n",
              "       False,  True, False,  True,  True,  True,  True,  True,  True,\n",
              "       False,  True,  True, False, False,  True, False,  True, False,\n",
              "        True,  True,  True,  True,  True,  True,  True,  True,  True,\n",
              "        True, False,  True,  True,  True,  True,  True,  True,  True,\n",
              "        True, False,  True,  True,  True, False,  True,  True,  True,\n",
              "        True,  True,  True, False,  True,  True,  True,  True,  True,\n",
              "        True,  True,  True,  True,  True,  True,  True,  True,  True,\n",
              "        True,  True,  True,  True,  True,  True,  True,  True,  True,\n",
              "        True,  True,  True,  True, False,  True,  True,  True,  True,\n",
              "        True,  True,  True,  True,  True,  True,  True,  True,  True,\n",
              "        True,  True, False,  True,  True,  True,  True,  True,  True,\n",
              "        True, False,  True,  True,  True,  True,  True,  True,  True,\n",
              "        True,  True,  True,  True,  True,  True, False,  True,  True,\n",
              "        True,  True,  True,  True,  True,  True,  True,  True,  True,\n",
              "        True,  True, False,  True, False,  True,  True,  True,  True,\n",
              "        True,  True,  True,  True,  True,  True,  True,  True,  True,\n",
              "       False,  True,  True,  True,  True,  True,  True,  True,  True,\n",
              "        True,  True,  True,  True,  True,  True,  True,  True,  True,\n",
              "        True,  True, False,  True, False,  True, False,  True,  True,\n",
              "        True,  True,  True,  True,  True,  True,  True,  True,  True,\n",
              "        True,  True,  True,  True,  True,  True,  True,  True,  True,\n",
              "        True,  True,  True,  True,  True,  True,  True,  True,  True,\n",
              "        True, False,  True,  True,  True,  True,  True,  True, False,\n",
              "        True,  True,  True,  True,  True,  True,  True,  True,  True,\n",
              "        True,  True,  True,  True, False,  True,  True,  True, False,\n",
              "        True,  True,  True, False,  True,  True,  True,  True,  True,\n",
              "        True,  True,  True,  True, False, False,  True,  True,  True,\n",
              "        True])"
            ]
          },
          "metadata": {
            "tags": []
          },
          "execution_count": 121
        }
      ]
    },
    {
      "cell_type": "code",
      "metadata": {
        "colab_type": "code",
        "id": "eNXy33_DfH-p",
        "colab": {
          "base_uri": "https://localhost:8080/",
          "height": 34
        },
        "outputId": "583e5dc3-1966-44da-ba68-1dbf7b222912"
      },
      "source": [
        "np.sum(test_labels == test_predicted)"
      ],
      "execution_count": 122,
      "outputs": [
        {
          "output_type": "execute_result",
          "data": {
            "text/plain": [
              "882"
            ]
          },
          "metadata": {
            "tags": []
          },
          "execution_count": 122
        }
      ]
    },
    {
      "cell_type": "markdown",
      "metadata": {
        "colab_type": "text",
        "id": "pXLR_7dOkK7p"
      },
      "source": [
        "How many instances from the test set the classifier has predicted correctly?"
      ]
    },
    {
      "cell_type": "code",
      "metadata": {
        "colab_type": "code",
        "id": "7piY3yeZkNC_",
        "colab": {
          "base_uri": "https://localhost:8080/",
          "height": 34
        },
        "outputId": "40989b30-bf29-402a-e871-ecd58a60fe9a"
      },
      "source": [
        "n_correct = np.sum(test_labels == test_predicted)\n",
        "print(f\"Number of correctly predicted images is {n_correct}\")"
      ],
      "execution_count": 123,
      "outputs": [
        {
          "output_type": "stream",
          "text": [
            "Number of correctly predicted images is 882\n"
          ],
          "name": "stdout"
        }
      ]
    },
    {
      "cell_type": "markdown",
      "metadata": {
        "colab_type": "text",
        "id": "qPM7UHbHkXIb"
      },
      "source": [
        "Now we will use **`accuracy`** (namely, proportion of correctly guessed classes) to estimate the performance of our nearest neighbor classifier. For that we need to divide number of correctly predicted images by total number of images."
      ]
    },
    {
      "cell_type": "code",
      "metadata": {
        "colab_type": "code",
        "id": "_a9_1ZgKkRVf",
        "colab": {
          "base_uri": "https://localhost:8080/",
          "height": 34
        },
        "outputId": "eeaa2158-5d9b-4862-e638-b28747376372"
      },
      "source": [
        "nn_accuracy = n_correct/len(test_labels)\n",
        "print(f\"Final accuracy of our nearest neighbor classifier is {nn_accuracy}. Not bad!\")"
      ],
      "execution_count": 124,
      "outputs": [
        {
          "output_type": "stream",
          "text": [
            "Final accuracy of our nearest neighbor classifier is 0.882. Not bad!\n"
          ],
          "name": "stdout"
        }
      ]
    },
    {
      "cell_type": "markdown",
      "metadata": {
        "colab_type": "text",
        "id": "h12yXjMPk8Kz"
      },
      "source": [
        "Let's examine some of the missclassified examples.\n"
      ]
    },
    {
      "cell_type": "code",
      "metadata": {
        "colab_type": "code",
        "id": "pPAjmuQdki1Q",
        "colab": {
          "base_uri": "https://localhost:8080/",
          "height": 484
        },
        "outputId": "ca497767-0dbd-4290-bbf3-65135ed8d915"
      },
      "source": [
        "missclassified = np.where(test_predicted != test_labels)[0]\n",
        "\n",
        "# Set an index of missclassified instance you want to examine\n",
        "index = 5\n",
        "\n",
        "# Plot this instance as usual\n",
        "img_matrix = test_images[missclassified[index]].reshape((28, 28))\n",
        "plt.imshow(img_matrix, plt.get_cmap('gray'))\n",
        "plt.axis('off')\n",
        "print(f\"This image with {test_labels[missclassified[index]]} was incorrectly predicted as {test_predicted[missclassified[index]]}\")"
      ],
      "execution_count": 125,
      "outputs": [
        {
          "output_type": "stream",
          "text": [
            "This image with 4 was incorrectly predicted as 9\n"
          ],
          "name": "stdout"
        },
        {
          "output_type": "display_data",
          "data": {
            "image/png": "[encoded data removed]",
            "text/plain": [
              "<Figure size 720x576 with 1 Axes>"
            ]
          },
          "metadata": {
            "tags": [],
            "needs_background": "light"
          }
        }
      ]
    },
    {
      "cell_type": "markdown",
      "metadata": {
        "colab_type": "text",
        "id": "X2xsOtQCuHla"
      },
      "source": [
        "## Homework exercise 2 (2 points): exploring misclassified examples"
      ]
    },
    {
      "cell_type": "markdown",
      "metadata": {
        "id": "BGVGqZGpxmzQ",
        "colab_type": "text"
      },
      "source": [
        "<font color='red'>**(Homework exercise 2- a)** Modify the visualisation code that we used to visualise a grid of example images from different classes. Instead of random examples for each class, visualise misclassified examples from each class. For example, in the first column visualise images that had true label `0` but were classified as something else, in the second column, show examples of images that had label `1` but were misclassified into another class and so on. Add a title to each small image, in the following format `true_label, predicted_label`. (1.5 points)</font>"
      ]
    },
    {
      "cell_type": "code",
      "metadata": {
        "colab_type": "code",
        "id": "XzVSFpyjlS2d",
        "colab": {}
      },
      "source": [
        "plt.rcParams['figure.figsize'] = (10.0, 8.0) # set default size of plots\n",
        "# \"Names\" of classes:\n",
        "classes =  ['0', '1', '2', '3', '4', '5', '6', '7', '8', '9']\n",
        "\n",
        "num_classes = len(classes)\n",
        "samples_per_class = 7 # Number of images from each class we want to see\n",
        "for y, cls in enumerate(classes):\n",
        "    ##### YOUR CODE STARTS #####\n",
        "    ...\n",
        "    ##### YOUR CODE ENDS ##### (please do not delete this line)\n",
        "plt.show()"
      ],
      "execution_count": null,
      "outputs": []
    },
    {
      "cell_type": "markdown",
      "metadata": {
        "colab_type": "text",
        "id": "73G5hFzrxrVc"
      },
      "source": [
        "<font color='red'>**(Homework exercise 2- b)** What is your take away from this figure? Are all classes equally missclassified? Why? Are there any classes that KNN confuses more often, why? (0.5 points) </font>"
      ]
    },
    {
      "cell_type": "markdown",
      "metadata": {
        "colab_type": "text",
        "id": "rmNqSRNiysh-"
      },
      "source": [
        "Answer to (b):"
      ]
    },
    {
      "cell_type": "markdown",
      "metadata": {
        "colab_type": "text",
        "id": "NZDsFKpngFK1"
      },
      "source": [
        "### Scikit-learn"
      ]
    },
    {
      "cell_type": "markdown",
      "metadata": {
        "colab_type": "text",
        "id": "8eNqmHxsgFK2"
      },
      "source": [
        "Now let us use the Scikit-Learn package to train the Nearest Neigbor classifier.\n",
        "\n",
        "Most of the models that we are going to use are implemented in scikit-learn, for example KNN is available under the name `KNNeiborsClassifier`. All you need to do is to import it from `sklearn` (this a short name for scikit-learn)."
      ]
    },
    {
      "cell_type": "code",
      "metadata": {
        "colab_type": "code",
        "id": "OV7PNg-wgFK3",
        "colab": {}
      },
      "source": [
        "import sklearn\n",
        "from sklearn.neighbors import KNeighborsClassifier"
      ],
      "execution_count": null,
      "outputs": []
    },
    {
      "cell_type": "markdown",
      "metadata": {
        "colab_type": "text",
        "id": "h0Kwi4szgFK5"
      },
      "source": [
        "Let's create an instance of the KNN classifier by calling a `KNeighborsClassifier()` function. As an input parameter you can specify `k`. For example 10 nearest neighbour classifier is created like this:"
      ]
    },
    {
      "cell_type": "code",
      "metadata": {
        "colab_type": "code",
        "id": "k8yL3NTqgFK5",
        "colab": {}
      },
      "source": [
        "model = KNeighborsClassifier(n_neighbors = 10)"
      ],
      "execution_count": null,
      "outputs": []
    },
    {
      "cell_type": "markdown",
      "metadata": {
        "colab_type": "text",
        "id": "wyXtNqpFgFK9"
      },
      "source": [
        "Most of the scikit-learn models have method `fit` that let you train the classifier given training instances and correct labels:"
      ]
    },
    {
      "cell_type": "code",
      "metadata": {
        "colab_type": "code",
        "id": "6bgzqOEYgFK-",
        "colab": {
          "base_uri": "https://localhost:8080/",
          "height": 68
        },
        "outputId": "00952246-8795-4a62-8e3e-d39bf0aaae9f"
      },
      "source": [
        "model.fit(train_images, train_labels)"
      ],
      "execution_count": null,
      "outputs": [
        {
          "output_type": "execute_result",
          "data": {
            "text/plain": [
              "KNeighborsClassifier(algorithm='auto', leaf_size=30, metric='minkowski',\n",
              "                     metric_params=None, n_jobs=None, n_neighbors=10, p=2,\n",
              "                     weights='uniform')"
            ]
          },
          "metadata": {
            "tags": []
          },
          "execution_count": 52
        }
      ]
    },
    {
      "cell_type": "markdown",
      "metadata": {
        "colab_type": "text",
        "id": "NAHwRm4igFLA"
      },
      "source": [
        "**Classroom exercise:** Use trained nearest neighbor classifier (`model`) to predict `test_images` and then calculate the accuracy. How does it compare to the one we obtained in the class?"
      ]
    },
    {
      "cell_type": "code",
      "metadata": {
        "colab_type": "code",
        "id": "1YfjlFlFgFLB",
        "colab": {
          "base_uri": "https://localhost:8080/",
          "height": 34
        },
        "outputId": "a7e5fb16-82d2-441f-a805-b0e2cf547e4b"
      },
      "source": [
        "##### YOUR CODE STARTS #####\n",
        "test_predicted = model.predict(test_images)\n",
        "n_correct = np.sum(test_labels == test_predicted)\n",
        "##### YOUR CODE ENDS ##### (please do not delete this line)\n",
        "print(f\"Number of correctly predicted images is {n_correct}\")"
      ],
      "execution_count": null,
      "outputs": [
        {
          "output_type": "stream",
          "text": [
            "Number of correctly predicted images is 863\n"
          ],
          "name": "stdout"
        }
      ]
    },
    {
      "cell_type": "markdown",
      "metadata": {
        "colab_type": "text",
        "id": "mLDk2_c3P6_j"
      },
      "source": [
        "# Regression\n",
        "\n",
        "## Small 2D example\n",
        "\n",
        "Here we will create a small toy dataset for playing around with some regression algorithms."
      ]
    },
    {
      "cell_type": "code",
      "metadata": {
        "colab_type": "code",
        "id": "Q255sYHwP7SS",
        "colab": {}
      },
      "source": [
        "import numpy as np \n",
        "import pandas as pd\n",
        "\n",
        "example_data = pd.DataFrame({'distance':[1,2,3,4,5], 'fare_amount':[2,4,5,4,5]})"
      ],
      "execution_count": null,
      "outputs": []
    },
    {
      "cell_type": "markdown",
      "metadata": {
        "colab_type": "text",
        "id": "narJIhxlpKTy"
      },
      "source": [
        "You can access columns using `.` notation and name of the column, e.g.:"
      ]
    },
    {
      "cell_type": "code",
      "metadata": {
        "colab_type": "code",
        "id": "4AcFY5iOpJsm",
        "colab": {
          "base_uri": "https://localhost:8080/",
          "height": 119
        },
        "outputId": "069200f8-c6fc-4241-be8d-f67c41140bea"
      },
      "source": [
        "example_data.fare_amount"
      ],
      "execution_count": null,
      "outputs": [
        {
          "output_type": "execute_result",
          "data": {
            "text/plain": [
              "0    2\n",
              "1    4\n",
              "2    5\n",
              "3    4\n",
              "4    5\n",
              "Name: fare_amount, dtype: int64"
            ]
          },
          "metadata": {
            "tags": []
          },
          "execution_count": 2
        }
      ]
    },
    {
      "cell_type": "code",
      "metadata": {
        "id": "ytceXkD55570",
        "colab_type": "code",
        "colab": {
          "base_uri": "https://localhost:8080/",
          "height": 119
        },
        "outputId": "ce181483-b25c-49d3-ac9b-fa64e67feda2"
      },
      "source": [
        "example_data[\"distance\"]"
      ],
      "execution_count": null,
      "outputs": [
        {
          "output_type": "execute_result",
          "data": {
            "text/plain": [
              "0    1\n",
              "1    2\n",
              "2    3\n",
              "3    4\n",
              "4    5\n",
              "Name: distance, dtype: int64"
            ]
          },
          "metadata": {
            "tags": []
          },
          "execution_count": 4
        }
      ]
    },
    {
      "cell_type": "markdown",
      "metadata": {
        "colab_type": "text",
        "id": "JBK_tjSDzMeo"
      },
      "source": [
        "The following is our attempt to reproduce figures exactly as in lecture slides. Never mind, you will be able to use regular `matplotlib` as before if you like."
      ]
    },
    {
      "cell_type": "code",
      "metadata": {
        "colab_type": "code",
        "id": "_uZnwxr6RxyF",
        "colab": {
          "base_uri": "https://localhost:8080/",
          "height": 309
        },
        "outputId": "479753fa-b4b5-4b47-a3b4-0697eb1fcb58"
      },
      "source": [
        "# Plotting as in ggplot2\n",
        "!pip install plotnine\n",
        "from plotnine import *"
      ],
      "execution_count": null,
      "outputs": [
        {
          "output_type": "stream",
          "text": [
            "Requirement already satisfied: plotnine in /usr/local/lib/python3.6/dist-packages (0.6.0)\n",
            "Requirement already satisfied: mizani>=0.6.0 in /usr/local/lib/python3.6/dist-packages (from plotnine) (0.6.0)\n",
            "Requirement already satisfied: statsmodels>=0.9.0 in /usr/local/lib/python3.6/dist-packages (from plotnine) (0.10.2)\n",
            "Requirement already satisfied: patsy>=0.4.1 in /usr/local/lib/python3.6/dist-packages (from plotnine) (0.5.1)\n",
            "Requirement already satisfied: numpy>=1.16.0 in /usr/local/lib/python3.6/dist-packages (from plotnine) (1.18.5)\n",
            "Requirement already satisfied: pandas>=0.25.0 in /usr/local/lib/python3.6/dist-packages (from plotnine) (1.0.5)\n",
            "Requirement already satisfied: matplotlib>=3.1.1 in /usr/local/lib/python3.6/dist-packages (from plotnine) (3.2.2)\n",
            "Requirement already satisfied: descartes>=1.1.0 in /usr/local/lib/python3.6/dist-packages (from plotnine) (1.1.0)\n",
            "Requirement already satisfied: scipy>=1.2.0 in /usr/local/lib/python3.6/dist-packages (from plotnine) (1.4.1)\n",
            "Requirement already satisfied: palettable in /usr/local/lib/python3.6/dist-packages (from mizani>=0.6.0->plotnine) (3.3.0)\n",
            "Requirement already satisfied: six in /usr/local/lib/python3.6/dist-packages (from patsy>=0.4.1->plotnine) (1.15.0)\n",
            "Requirement already satisfied: python-dateutil>=2.6.1 in /usr/local/lib/python3.6/dist-packages (from pandas>=0.25.0->plotnine) (2.8.1)\n",
            "Requirement already satisfied: pytz>=2017.2 in /usr/local/lib/python3.6/dist-packages (from pandas>=0.25.0->plotnine) (2018.9)\n",
            "Requirement already satisfied: pyparsing!=2.0.4,!=2.1.2,!=2.1.6,>=2.0.1 in /usr/local/lib/python3.6/dist-packages (from matplotlib>=3.1.1->plotnine) (2.4.7)\n",
            "Requirement already satisfied: cycler>=0.10 in /usr/local/lib/python3.6/dist-packages (from matplotlib>=3.1.1->plotnine) (0.10.0)\n",
            "Requirement already satisfied: kiwisolver>=1.0.1 in /usr/local/lib/python3.6/dist-packages (from matplotlib>=3.1.1->plotnine) (1.2.0)\n"
          ],
          "name": "stdout"
        }
      ]
    },
    {
      "cell_type": "code",
      "metadata": {
        "colab_type": "code",
        "id": "6Gx5SkM9RsA0",
        "colab": {
          "base_uri": "https://localhost:8080/",
          "height": 479
        },
        "outputId": "bdb5b370-10ea-4f4d-d492-a0eb3753c8ac"
      },
      "source": [
        "fig = (\n",
        "    ggplot(data = example_data,\n",
        "          mapping = aes(x = 'distance', y = 'fare_amount')) +\n",
        "    geom_point(fill = '#36B059', \n",
        "               size = 5.0,\n",
        "               stroke = 2.5,\n",
        "               colour = '#2BE062',\n",
        "               shape = 'o') +\n",
        "    labs(\n",
        "        title ='',\n",
        "        x = 'distance',\n",
        "        y = 'fare amount',\n",
        "    ) +\n",
        "    xlim(0, 6) +\n",
        "    ylim(0, 7) +\n",
        "    theme_bw() + \n",
        "    theme(figure_size = (5, 5),\n",
        "          axis_line = element_line(size = 0.5, colour = \"black\"),\n",
        "          panel_grid_major = element_line(size = 0.05, colour = \"black\"),\n",
        "          panel_grid_minor = element_line(size = 0.05, colour = \"black\"),\n",
        "          axis_text = element_text(colour ='black'))\n",
        ")\n",
        "fig"
      ],
      "execution_count": null,
      "outputs": [
        {
          "output_type": "display_data",
          "data": {
            "image/png": "[encoded data removed]",
            "text/plain": [
              "<Figure size 500x500 with 1 Axes>"
            ]
          },
          "metadata": {
            "tags": []
          }
        },
        {
          "output_type": "execute_result",
          "data": {
            "text/plain": [
              "<ggplot: (8748199081578)>"
            ]
          },
          "metadata": {
            "tags": []
          },
          "execution_count": 6
        }
      ]
    },
    {
      "cell_type": "markdown",
      "metadata": {
        "colab_type": "text",
        "id": "MBnG26L6SvV-"
      },
      "source": [
        "### Linear regression on a toy example\n",
        "**Classroom exercise**: find value of **`intercept`** and **`slope`** (`w1`) using the equation of the line (`y = intercept + slope*x`) and lecture slides. Remember that in this example `x` is `distance` and `y` is `fare_amount`."
      ]
    },
    {
      "cell_type": "code",
      "metadata": {
        "id": "A4Lh41so7gnZ",
        "colab_type": "code",
        "colab": {
          "base_uri": "https://localhost:8080/",
          "height": 34
        },
        "outputId": "02ab7a0b-1843-4ebe-dda0-610c234bcf47"
      },
      "source": [
        "((example_data.distance - example_data.distance.mean())*(example_data.fare_amount - example_data.fare_amount.mean())).sum()"
      ],
      "execution_count": null,
      "outputs": [
        {
          "output_type": "execute_result",
          "data": {
            "text/plain": [
              "6.0"
            ]
          },
          "metadata": {
            "tags": []
          },
          "execution_count": 9
        }
      ]
    },
    {
      "cell_type": "code",
      "metadata": {
        "id": "w1_wVA_u8tV2",
        "colab_type": "code",
        "colab": {
          "base_uri": "https://localhost:8080/",
          "height": 34
        },
        "outputId": "dcce5b1e-356b-41d3-e4dc-4c34a9cb0f2b"
      },
      "source": [
        "((example_data.distance - example_data.distance.mean())**2).sum()"
      ],
      "execution_count": null,
      "outputs": [
        {
          "output_type": "execute_result",
          "data": {
            "text/plain": [
              "10.0"
            ]
          },
          "metadata": {
            "tags": []
          },
          "execution_count": 10
        }
      ]
    },
    {
      "cell_type": "code",
      "metadata": {
        "id": "oj8deSyR9Gcf",
        "colab_type": "code",
        "colab": {
          "base_uri": "https://localhost:8080/",
          "height": 34
        },
        "outputId": "9407d3ac-02ef-4a6b-bde4-5b1a70dd234e"
      },
      "source": [
        "((example_data.distance - example_data.distance.mean())*(example_data.fare_amount - example_data.fare_amount.mean())).sum()/((example_data.distance - example_data.distance.mean())**2).sum()"
      ],
      "execution_count": null,
      "outputs": [
        {
          "output_type": "execute_result",
          "data": {
            "text/plain": [
              "0.6"
            ]
          },
          "metadata": {
            "tags": []
          },
          "execution_count": 11
        }
      ]
    },
    {
      "cell_type": "code",
      "metadata": {
        "colab_type": "code",
        "id": "q0wS730hP8p6",
        "colab": {
          "base_uri": "https://localhost:8080/",
          "height": 34
        },
        "outputId": "df9329cc-545d-4a3e-e442-ec58445e1a6e"
      },
      "source": [
        "##### YOUR CODE STARTS #####\n",
        "w1 = ((example_data.distance - example_data.distance.mean())*(example_data.fare_amount - example_data.fare_amount.mean())).sum()/((example_data.distance - example_data.distance.mean())**2).sum()\n",
        "intercept = example_data.fare_amount.mean() - w1*example_data.distance.mean()\n",
        "##### YOUR CODE ENDS ##### (please do not delete this line)\n",
        "print(f\"w1 = {w1}; intercept = {intercept}, while the correct values are w1 = 0.6 and intercept = 2.2\")"
      ],
      "execution_count": null,
      "outputs": [
        {
          "output_type": "stream",
          "text": [
            "w1 = 0.6; intercept = 2.2, while the correct values are w1 = 0.6 and intercept = 2.2\n"
          ],
          "name": "stdout"
        }
      ]
    },
    {
      "cell_type": "markdown",
      "metadata": {
        "colab_type": "text",
        "id": "aFX1opwLVFu2"
      },
      "source": [
        "We can now plug in these coefficients to visually examine regression line that we have computed"
      ]
    },
    {
      "cell_type": "code",
      "metadata": {
        "colab_type": "code",
        "id": "VHWrTU2AEPqV",
        "colab": {
          "base_uri": "https://localhost:8080/",
          "height": 479
        },
        "outputId": "df6dc046-d91a-41cd-814d-e9ed47e6bdfd"
      },
      "source": [
        "fig + geom_abline(intercept = intercept, slope = w1, color=\"black\", linetype=\"dashed\", size=1.5)"
      ],
      "execution_count": null,
      "outputs": [
        {
          "output_type": "display_data",
          "data": {
            "image/png": "[encoded data removed]",
            "text/plain": [
              "<Figure size 500x500 with 1 Axes>"
            ]
          },
          "metadata": {
            "tags": []
          }
        },
        {
          "output_type": "execute_result",
          "data": {
            "text/plain": [
              "<ggplot: (-9223363288657393618)>"
            ]
          },
          "metadata": {
            "tags": []
          },
          "execution_count": 13
        }
      ]
    },
    {
      "cell_type": "markdown",
      "metadata": {
        "colab_type": "text",
        "id": "y8RlGcKHUKLZ"
      },
      "source": [
        "We can compare our regression line with a regression line computed by Python"
      ]
    },
    {
      "cell_type": "code",
      "metadata": {
        "colab_type": "code",
        "id": "c5zVWrYsETu-",
        "colab": {
          "base_uri": "https://localhost:8080/",
          "height": 479
        },
        "outputId": "9db19e43-e7e8-4a4b-9f35-f2c5dabe10e5"
      },
      "source": [
        "fig + geom_abline(intercept = intercept, slope = w1, color=\"black\", linetype=\"dashed\", size=1.5) + geom_smooth(method = 'lm', se = False, colour = 'red')"
      ],
      "execution_count": null,
      "outputs": [
        {
          "output_type": "display_data",
          "data": {
            "image/png": "[encoded data removed]",
            "text/plain": [
              "<Figure size 500x500 with 1 Axes>"
            ]
          },
          "metadata": {
            "tags": []
          }
        },
        {
          "output_type": "execute_result",
          "data": {
            "text/plain": [
              "<ggplot: (8748194678322)>"
            ]
          },
          "metadata": {
            "tags": []
          },
          "execution_count": 14
        }
      ]
    },
    {
      "cell_type": "markdown",
      "metadata": {
        "colab_type": "text",
        "id": "2592NFjoX83f"
      },
      "source": [
        "### Decision tree (DT) algorithm\n",
        "We will borrow DT algorithm from sklearn package as linear regression. Sklearn has both `DecisionTreeRegressor` and `DecisionTreeClassifier` at its disposal. For now, let's use regressor."
      ]
    },
    {
      "cell_type": "code",
      "metadata": {
        "colab_type": "code",
        "id": "Kr2p9vu0QZ6O",
        "colab": {}
      },
      "source": [
        "from sklearn.tree import DecisionTreeRegressor\n",
        "dtr=DecisionTreeRegressor(max_depth = 10)"
      ],
      "execution_count": null,
      "outputs": []
    },
    {
      "cell_type": "markdown",
      "metadata": {
        "colab_type": "text",
        "id": "vawPyvl1YGNk"
      },
      "source": [
        "we use function `fit` to train newly created DT instance on our `example_data`"
      ]
    },
    {
      "cell_type": "code",
      "metadata": {
        "colab_type": "code",
        "id": "ODKVb6OrXtDA",
        "colab": {
          "base_uri": "https://localhost:8080/",
          "height": 119
        },
        "outputId": "ba32bf1f-cb04-4641-cb1b-f7cdf81ddd38"
      },
      "source": [
        "dtr.fit(X = np.array(example_data.distance).reshape(-1, 1), y = example_data.fare_amount)"
      ],
      "execution_count": null,
      "outputs": [
        {
          "output_type": "execute_result",
          "data": {
            "text/plain": [
              "DecisionTreeRegressor(ccp_alpha=0.0, criterion='mse', max_depth=10,\n",
              "                      max_features=None, max_leaf_nodes=None,\n",
              "                      min_impurity_decrease=0.0, min_impurity_split=None,\n",
              "                      min_samples_leaf=1, min_samples_split=2,\n",
              "                      min_weight_fraction_leaf=0.0, presort='deprecated',\n",
              "                      random_state=None, splitter='best')"
            ]
          },
          "metadata": {
            "tags": []
          },
          "execution_count": 26
        }
      ]
    },
    {
      "cell_type": "markdown",
      "metadata": {
        "colab_type": "text",
        "id": "in9l7yuuTKxi"
      },
      "source": [
        "### Creating a synthetic test set that would cover up the whole space"
      ]
    },
    {
      "cell_type": "code",
      "metadata": {
        "colab_type": "code",
        "id": "lm72D7nAQBKs",
        "colab": {
          "base_uri": "https://localhost:8080/",
          "height": 204
        },
        "outputId": "b7aa887d-9897-4e89-dad2-816cc9a867ff"
      },
      "source": [
        "test_data = pd.concat([pd.DataFrame({'distance': np.repeat(x, 71), 'fare_amount': np.linspace(start=0, stop=7, num=71)}) for x in np.linspace(start=0, stop=6, num=61)])\n",
        "test_data.head()"
      ],
      "execution_count": null,
      "outputs": [
        {
          "output_type": "execute_result",
          "data": {
            "text/html": [
              "<div>\n",
              "<style scoped>\n",
              "    .dataframe tbody tr th:only-of-type {\n",
              "        vertical-align: middle;\n",
              "    }\n",
              "\n",
              "    .dataframe tbody tr th {\n",
              "        vertical-align: top;\n",
              "    }\n",
              "\n",
              "    .dataframe thead th {\n",
              "        text-align: right;\n",
              "    }\n",
              "</style>\n",
              "<table border=\"1\" class=\"dataframe\">\n",
              "  <thead>\n",
              "    <tr style=\"text-align: right;\">\n",
              "      <th></th>\n",
              "      <th>distance</th>\n",
              "      <th>fare_amount</th>\n",
              "    </tr>\n",
              "  </thead>\n",
              "  <tbody>\n",
              "    <tr>\n",
              "      <th>0</th>\n",
              "      <td>0.0</td>\n",
              "      <td>0.0</td>\n",
              "    </tr>\n",
              "    <tr>\n",
              "      <th>1</th>\n",
              "      <td>0.0</td>\n",
              "      <td>0.1</td>\n",
              "    </tr>\n",
              "    <tr>\n",
              "      <th>2</th>\n",
              "      <td>0.0</td>\n",
              "      <td>0.2</td>\n",
              "    </tr>\n",
              "    <tr>\n",
              "      <th>3</th>\n",
              "      <td>0.0</td>\n",
              "      <td>0.3</td>\n",
              "    </tr>\n",
              "    <tr>\n",
              "      <th>4</th>\n",
              "      <td>0.0</td>\n",
              "      <td>0.4</td>\n",
              "    </tr>\n",
              "  </tbody>\n",
              "</table>\n",
              "</div>"
            ],
            "text/plain": [
              "   distance  fare_amount\n",
              "0       0.0          0.0\n",
              "1       0.0          0.1\n",
              "2       0.0          0.2\n",
              "3       0.0          0.3\n",
              "4       0.0          0.4"
            ]
          },
          "metadata": {
            "tags": []
          },
          "execution_count": 27
        }
      ]
    },
    {
      "cell_type": "code",
      "metadata": {
        "colab_type": "code",
        "id": "dcW4UyT_859T",
        "colab": {}
      },
      "source": [
        "test_data['predicted_amount'] = dtr.predict(np.array(test_data.distance).reshape(-1, 1))"
      ],
      "execution_count": null,
      "outputs": []
    },
    {
      "cell_type": "code",
      "metadata": {
        "colab_type": "code",
        "id": "fyQWG0OyQmxz",
        "colab": {
          "base_uri": "https://localhost:8080/",
          "height": 479
        },
        "outputId": "fa148cf0-7fbd-49b5-ccc2-0008ae1bb025"
      },
      "source": [
        "fig = (\n",
        "    ggplot(data = example_data,\n",
        "          mapping = aes(x = 'distance', y = 'fare_amount')) +\n",
        "    geom_point(data = test_data, mapping = aes(x = 'distance', y = 'fare_amount', size = 5.0, colour = 'predicted_amount'), shape = 's') +\n",
        "    geom_point(fill = '#36B059', \n",
        "               size = 5.0,\n",
        "               stroke = 2.5,\n",
        "               colour = '#2BE062',\n",
        "               shape = 'o') +\n",
        "    labs(\n",
        "        title ='',\n",
        "        x = 'distance',\n",
        "        y = 'fare amount',\n",
        "    ) +\n",
        "    xlim(0, 6) +\n",
        "    ylim(0, 7) +\n",
        "    theme_bw() + \n",
        "    theme(figure_size = (5, 5),\n",
        "          axis_line = element_line(size = 0.5, colour = \"black\"),\n",
        "          panel_grid_major = element_line(size = 0.05, colour = \"black\"),\n",
        "          panel_grid_minor = element_line(size = 0.05, colour = \"black\"),\n",
        "          axis_text = element_text(colour ='black')) + \n",
        "    guides(size = False)\n",
        ")\n",
        "fig"
      ],
      "execution_count": null,
      "outputs": [
        {
          "output_type": "display_data",
          "data": {
            "image/png": "[encoded data removed]",
            "text/plain": [
              "<Figure size 500x500 with 1 Axes>"
            ]
          },
          "metadata": {
            "tags": []
          }
        },
        {
          "output_type": "execute_result",
          "data": {
            "text/plain": [
              "<ggplot: (-9223363288660101481)>"
            ]
          },
          "metadata": {
            "tags": []
          },
          "execution_count": 29
        }
      ]
    },
    {
      "cell_type": "markdown",
      "metadata": {
        "colab_type": "text",
        "id": "1YXt-Gxw9UY7"
      },
      "source": [
        "## Homework exercise 3 (2 points): visualising linear regression\n"
      ]
    },
    {
      "cell_type": "markdown",
      "metadata": {
        "id": "gvug-opoyHSA",
        "colab_type": "text"
      },
      "source": [
        "\n",
        "<font color='red'>**(Homework exercise 3- a)** use previously computed coefficients `w1` and `intercept` of the linear regression model to predict the fare amount in the `test_data` (1 point)"
      ]
    },
    {
      "cell_type": "code",
      "metadata": {
        "colab_type": "code",
        "id": "BPzCHrC-9kuW",
        "colab": {}
      },
      "source": [
        "##### YOUR CODE STARTS #####\n",
        "test_data['predicted_amount'] = ...\n",
        "##### YOUR CODE ENDS ##### (please do not delete this line)"
      ],
      "execution_count": null,
      "outputs": []
    },
    {
      "cell_type": "markdown",
      "metadata": {
        "colab_type": "text",
        "id": "1jsc7JbcphX5"
      },
      "source": [
        "<font color='red'>**(Homework exercise 3- b)** visualise these predictions as well as linear regression line the way we have done it for Decision Tree. Explain the results. (0.5 points)\n",
        "</font>"
      ]
    },
    {
      "cell_type": "code",
      "metadata": {
        "colab_type": "code",
        "id": "utfQ_3GDplfx",
        "colab": {}
      },
      "source": [
        "##### YOUR CODE STARTS #####\n",
        "fig = \n",
        "##### YOUR CODE ENDS ##### (please do not delete this line)"
      ],
      "execution_count": null,
      "outputs": []
    },
    {
      "cell_type": "markdown",
      "metadata": {
        "colab_type": "text",
        "id": "BY97fEcmqAW9"
      },
      "source": [
        "<font color='red'>**(Homework exercise 3- c)** Interpret the resulting figure (what is going on there?). (0.5 points)\n",
        "</font>"
      ]
    },
    {
      "cell_type": "markdown",
      "metadata": {
        "id": "-t-BZGT9FYeb",
        "colab_type": "text"
      },
      "source": [
        "Answer to (c): "
      ]
    },
    {
      "cell_type": "markdown",
      "metadata": {
        "colab_type": "text",
        "id": "yiyv1wdqImo-"
      },
      "source": [
        "## NYC Taxi dataset\n",
        "Next we will work with real-world dataset collected from taxis operating in New York City"
      ]
    },
    {
      "cell_type": "code",
      "metadata": {
        "colab_type": "code",
        "id": "vVU6bxgsNzEh",
        "colab": {}
      },
      "source": [
        "# Code to read csv file into Colaboratory:\n",
        "!pip install -U -q PyDrive\n",
        "from pydrive.auth import GoogleAuth\n",
        "from pydrive.drive import GoogleDrive\n",
        "from google.colab import auth\n",
        "from oauth2client.client import GoogleCredentials"
      ],
      "execution_count": null,
      "outputs": []
    },
    {
      "cell_type": "code",
      "metadata": {
        "colab_type": "code",
        "id": "3QNY3__uCWRY",
        "colab": {}
      },
      "source": [
        "# Authenticate and create the PyDrive client.\n",
        "auth.authenticate_user()\n",
        "gauth = GoogleAuth()\n",
        "gauth.credentials = GoogleCredentials.get_application_default()\n",
        "drive = GoogleDrive(gauth)\n",
        "\n",
        "link = 'https://drive.google.com/file/d/1XBBNQ6wnaz5W-h8qbL-2_4MNchGR8YCI' # The shareable link"
      ],
      "execution_count": null,
      "outputs": []
    },
    {
      "cell_type": "code",
      "metadata": {
        "colab_type": "code",
        "id": "RmMEiS7ICgRB",
        "colab": {}
      },
      "source": [
        "downloaded = drive.CreateFile({'id':'1XBBNQ6wnaz5W-h8qbL-2_4MNchGR8YCI'}) \n",
        "downloaded.GetContentFile('nyc_data.zip')"
      ],
      "execution_count": null,
      "outputs": []
    },
    {
      "cell_type": "code",
      "metadata": {
        "colab_type": "code",
        "id": "DvH1jMyPOHmy",
        "colab": {
          "base_uri": "https://localhost:8080/",
          "height": 34
        },
        "outputId": "8e617d95-a329-41b0-ac01-ad8b5b25718d"
      },
      "source": [
        "# check that nyc_data.zip exists\n",
        "!ls"
      ],
      "execution_count": null,
      "outputs": [
        {
          "output_type": "stream",
          "text": [
            "adc.json  nyc_data.zip\tsample_data\n"
          ],
          "name": "stdout"
        }
      ]
    },
    {
      "cell_type": "code",
      "metadata": {
        "colab_type": "code",
        "id": "q0zYwWsoC-sW",
        "colab": {
          "base_uri": "https://localhost:8080/",
          "height": 187
        },
        "outputId": "220593d4-cebf-4c43-eccd-3cddf047f6b4"
      },
      "source": [
        "# After archive has been downloaded\n",
        "# unzip it\n",
        "!unzip nyc_data.zip\n",
        "\n",
        "# check that train_2M.csv, test.csv, model.pickle and sample_submission.csv exist\n",
        "!ls"
      ],
      "execution_count": null,
      "outputs": [
        {
          "output_type": "stream",
          "text": [
            "Archive:  nyc_data.zip\n",
            "  inflating: train_2M.csv            \n",
            "  inflating: test.csv                \n",
            "   creating: __MACOSX/\n",
            "  inflating: __MACOSX/._test.csv     \n",
            "  inflating: model.pickle            \n",
            "  inflating: sample_submission.csv   \n",
            "  inflating: __MACOSX/._sample_submission.csv  \n",
            "adc.json  model.pickle\tsample_data\t       test.csv\n",
            "__MACOSX  nyc_data.zip\tsample_submission.csv  train_2M.csv\n"
          ],
          "name": "stdout"
        }
      ]
    },
    {
      "cell_type": "markdown",
      "metadata": {
        "colab_type": "text",
        "id": "GkSYWHwZEG9j"
      },
      "source": [
        "* `train_2M.csv` contains 2 million observations from NYC dataset (6 independent variables and fare_amount that we need to predict).\n",
        "* `test.csv` contains new observations, for which we have to estimate `fare_amount` based on train data.\n",
        "* `sample_submission.csv` - a sample submission file in the correct format (columns `key` and `fare_amount`). Every row in this file matches every row in `test.csv`.\n",
        "* `model.pickel` - file that contains trained model saved as a pickle (we are going to deal with it later)"
      ]
    },
    {
      "cell_type": "markdown",
      "metadata": {
        "colab_type": "text",
        "id": "d9MiatCvf_Qz"
      },
      "source": [
        "### Setting up Kaggle"
      ]
    },
    {
      "cell_type": "markdown",
      "metadata": {
        "colab_type": "text",
        "id": "8wEnpDansSd2"
      },
      "source": [
        "You need to have an account on Kaggle.com. Before you proceed you need to create **a new API token** at Kaggle.com (your account page). Download the kaggle.json file and fill in the **key** and your username in the code below."
      ]
    },
    {
      "cell_type": "code",
      "metadata": {
        "colab_type": "code",
        "id": "el8MSVqmEPWo",
        "colab": {}
      },
      "source": [
        "!mkdir .kaggle"
      ],
      "execution_count": null,
      "outputs": []
    },
    {
      "cell_type": "code",
      "metadata": {
        "colab_type": "code",
        "id": "pqAUm2XZEz7D",
        "colab": {}
      },
      "source": [
        "import json\n",
        "token = {\"username\": \"skyfallen\", \"key\": \"38d465cc0ef66dd9ec21011c7daf6428\"}\n",
        "with open('/content/.kaggle/kaggle.json', 'w') as file:\n",
        "    json.dump(token, file)"
      ],
      "execution_count": null,
      "outputs": []
    },
    {
      "cell_type": "code",
      "metadata": {
        "colab_type": "code",
        "id": "VOMVGwfHGQbk",
        "colab": {}
      },
      "source": [
        "!cp /content/.kaggle/kaggle.json ~/.kaggle/kaggle.json"
      ],
      "execution_count": null,
      "outputs": []
    },
    {
      "cell_type": "code",
      "metadata": {
        "colab_type": "code",
        "id": "mW_YpRtHGTsl",
        "colab": {
          "base_uri": "https://localhost:8080/",
          "height": 71
        },
        "outputId": "80c903b1-6793-4b4e-b3d0-471208e4c20d"
      },
      "source": [
        "!kaggle config set -n path -v{/content}"
      ],
      "execution_count": null,
      "outputs": [
        {
          "output_type": "stream",
          "text": [
            "Warning: Your Kaggle API key is readable by other users on this system! To fix this, you can run 'chmod 600 /root/.kaggle/kaggle.json'\n",
            "- path is now set to: {/content}\n"
          ],
          "name": "stdout"
        }
      ]
    },
    {
      "cell_type": "code",
      "metadata": {
        "colab_type": "code",
        "id": "QLdLWX2nGWyM",
        "colab": {}
      },
      "source": [
        "!chmod 600 ~/.kaggle/kaggle.json"
      ],
      "execution_count": null,
      "outputs": []
    },
    {
      "cell_type": "markdown",
      "metadata": {
        "colab_type": "text",
        "id": "2fDy-ghRhlvv"
      },
      "source": [
        "In order to sign up for a NYC Taxi competition you need to accept the rules by cliking on \"Late submission\" button in the upper right corner: https://www.kaggle.com/c/new-york-city-taxi-fare-prediction"
      ]
    },
    {
      "cell_type": "code",
      "metadata": {
        "id": "v3JmfBoBNMDy",
        "colab_type": "code",
        "colab": {
          "base_uri": "https://localhost:8080/",
          "height": 51
        },
        "outputId": "736691f3-02b3-48c8-a4e8-953cc9dea8ec"
      },
      "source": [
        "!ls"
      ],
      "execution_count": null,
      "outputs": [
        {
          "output_type": "stream",
          "text": [
            "adc.json  model.pickle\tsample_data\t       test.csv\n",
            "__MACOSX  nyc_data.zip\tsample_submission.csv  train_2M.csv\n"
          ],
          "name": "stdout"
        }
      ]
    },
    {
      "cell_type": "markdown",
      "metadata": {
        "id": "rmpzFI5ENPeW",
        "colab_type": "text"
      },
      "source": [
        "Check the head of the sample_submission.csv file:"
      ]
    },
    {
      "cell_type": "code",
      "metadata": {
        "id": "T78U6IejNM0R",
        "colab_type": "code",
        "colab": {
          "base_uri": "https://localhost:8080/",
          "height": 187
        },
        "outputId": "fde59c25-4c2c-48a6-958f-47dd97a854d1"
      },
      "source": [
        "!head sample_submission.csv"
      ],
      "execution_count": null,
      "outputs": [
        {
          "output_type": "stream",
          "text": [
            "key,fare_amount\n",
            "2015-01-27 13:08:24.0000002,11.35\n",
            "2015-01-27 13:08:24.0000003,11.35\n",
            "2011-10-08 11:53:44.0000002,11.35\n",
            "2012-12-01 21:12:12.0000002,11.35\n",
            "2012-12-01 21:12:12.0000003,11.35\n",
            "2012-12-01 21:12:12.0000005,11.35\n",
            "2011-10-06 12:10:20.0000001,11.35\n",
            "2011-10-06 12:10:20.0000003,11.35\n",
            "2011-10-06 12:10:20.0000002,11.35\n"
          ],
          "name": "stdout"
        }
      ]
    },
    {
      "cell_type": "markdown",
      "metadata": {
        "colab_type": "text",
        "id": "h2FromHiSLB4"
      },
      "source": [
        "Make a test submission to ensure that the submission mechanism works"
      ]
    },
    {
      "cell_type": "code",
      "metadata": {
        "colab_type": "code",
        "id": "ULF0BN3LCtSE",
        "colab": {
          "base_uri": "https://localhost:8080/",
          "height": 88
        },
        "outputId": "131e4136-3fe8-46c9-8d24-8c3eb6f877ea"
      },
      "source": [
        "!kaggle competitions submit -c new-york-city-taxi-fare-prediction -f sample_submission.csv -m \"Sample submission test\""
      ],
      "execution_count": null,
      "outputs": [
        {
          "output_type": "stream",
          "text": [
            "Warning: Looks like you're using an outdated API Version, please consider updating (server 1.5.6 / client 1.5.4)\n",
            "100% 335k/335k [00:00<00:00, 1.08MB/s]\n",
            "Successfully submitted to New York City Taxi Fare Prediction"
          ],
          "name": "stdout"
        }
      ]
    },
    {
      "cell_type": "markdown",
      "metadata": {
        "colab_type": "text",
        "id": "d4HijXgyspzs"
      },
      "source": [
        "Now you can check `My submissions` tab on the website: https://www.kaggle.com/c/new-york-city-taxi-fare-prediction/submissions"
      ]
    },
    {
      "cell_type": "markdown",
      "metadata": {
        "colab_type": "text",
        "id": "rXvcLJyNSRzH"
      },
      "source": [
        "## Read in the NYC data"
      ]
    },
    {
      "cell_type": "code",
      "metadata": {
        "colab_type": "code",
        "id": "JQXdJrPvDMrZ",
        "colab": {
          "base_uri": "https://localhost:8080/",
          "height": 51
        },
        "outputId": "b758f8ff-69f5-42fb-a423-058aee468066"
      },
      "source": [
        "%%time \n",
        "\n",
        "# note that we use only 1M out of 2M records\n",
        "train =  pd.read_csv('train_2M.csv', parse_dates=[\"pickup_datetime\"], nrows = 1_000_000) # the first row will automatically be interpreted as a header"
      ],
      "execution_count": null,
      "outputs": [
        {
          "output_type": "stream",
          "text": [
            "CPU times: user 1.33 s, sys: 111 ms, total: 1.44 s\n",
            "Wall time: 1.44 s\n"
          ],
          "name": "stdout"
        }
      ]
    },
    {
      "cell_type": "markdown",
      "metadata": {
        "colab_type": "text",
        "id": "s2BdqFzRHFig"
      },
      "source": [
        "## Brief Exploratory Data Analysis (EDA)"
      ]
    },
    {
      "cell_type": "code",
      "metadata": {
        "colab_type": "code",
        "id": "BQTDba2DKDFX",
        "colab": {
          "base_uri": "https://localhost:8080/",
          "height": 309
        },
        "outputId": "9170d172-851b-4ec5-e42f-b78f1ed7f1d9"
      },
      "source": [
        "train.head()"
      ],
      "execution_count": null,
      "outputs": [
        {
          "output_type": "execute_result",
          "data": {
            "text/html": [
              "<div>\n",
              "<style scoped>\n",
              "    .dataframe tbody tr th:only-of-type {\n",
              "        vertical-align: middle;\n",
              "    }\n",
              "\n",
              "    .dataframe tbody tr th {\n",
              "        vertical-align: top;\n",
              "    }\n",
              "\n",
              "    .dataframe thead th {\n",
              "        text-align: right;\n",
              "    }\n",
              "</style>\n",
              "<table border=\"1\" class=\"dataframe\">\n",
              "  <thead>\n",
              "    <tr style=\"text-align: right;\">\n",
              "      <th></th>\n",
              "      <th>fare_amount</th>\n",
              "      <th>pickup_datetime</th>\n",
              "      <th>pickup_longitude</th>\n",
              "      <th>pickup_latitude</th>\n",
              "      <th>dropoff_longitude</th>\n",
              "      <th>dropoff_latitude</th>\n",
              "      <th>passenger_count</th>\n",
              "    </tr>\n",
              "  </thead>\n",
              "  <tbody>\n",
              "    <tr>\n",
              "      <th>0</th>\n",
              "      <td>4.5</td>\n",
              "      <td>2009-06-15 17:26:21</td>\n",
              "      <td>-73.844311</td>\n",
              "      <td>40.721319</td>\n",
              "      <td>-73.841610</td>\n",
              "      <td>40.712278</td>\n",
              "      <td>1</td>\n",
              "    </tr>\n",
              "    <tr>\n",
              "      <th>1</th>\n",
              "      <td>16.9</td>\n",
              "      <td>2010-01-05 16:52:16</td>\n",
              "      <td>-74.016048</td>\n",
              "      <td>40.711303</td>\n",
              "      <td>-73.979268</td>\n",
              "      <td>40.782004</td>\n",
              "      <td>1</td>\n",
              "    </tr>\n",
              "    <tr>\n",
              "      <th>2</th>\n",
              "      <td>5.7</td>\n",
              "      <td>2011-08-18 00:35:00</td>\n",
              "      <td>-73.982738</td>\n",
              "      <td>40.761270</td>\n",
              "      <td>-73.991242</td>\n",
              "      <td>40.750562</td>\n",
              "      <td>2</td>\n",
              "    </tr>\n",
              "    <tr>\n",
              "      <th>3</th>\n",
              "      <td>7.7</td>\n",
              "      <td>2012-04-21 04:30:42</td>\n",
              "      <td>-73.987130</td>\n",
              "      <td>40.733143</td>\n",
              "      <td>-73.991567</td>\n",
              "      <td>40.758092</td>\n",
              "      <td>1</td>\n",
              "    </tr>\n",
              "    <tr>\n",
              "      <th>4</th>\n",
              "      <td>5.3</td>\n",
              "      <td>2010-03-09 07:51:00</td>\n",
              "      <td>-73.968095</td>\n",
              "      <td>40.768008</td>\n",
              "      <td>-73.956655</td>\n",
              "      <td>40.783762</td>\n",
              "      <td>1</td>\n",
              "    </tr>\n",
              "  </tbody>\n",
              "</table>\n",
              "</div>"
            ],
            "text/plain": [
              "   fare_amount     pickup_datetime  ...  dropoff_latitude  passenger_count\n",
              "0          4.5 2009-06-15 17:26:21  ...         40.712278                1\n",
              "1         16.9 2010-01-05 16:52:16  ...         40.782004                1\n",
              "2          5.7 2011-08-18 00:35:00  ...         40.750562                2\n",
              "3          7.7 2012-04-21 04:30:42  ...         40.758092                1\n",
              "4          5.3 2010-03-09 07:51:00  ...         40.783762                1\n",
              "\n",
              "[5 rows x 7 columns]"
            ]
          },
          "metadata": {
            "tags": []
          },
          "execution_count": 47
        }
      ]
    },
    {
      "cell_type": "code",
      "metadata": {
        "colab_type": "code",
        "id": "UiuOS0pBKL-E",
        "colab": {
          "base_uri": "https://localhost:8080/",
          "height": 153
        },
        "outputId": "5ded1861-a0c5-4c82-cdfb-aa6e65ac0cc3"
      },
      "source": [
        "train.dtypes"
      ],
      "execution_count": null,
      "outputs": [
        {
          "output_type": "execute_result",
          "data": {
            "text/plain": [
              "fare_amount                 float64\n",
              "pickup_datetime      datetime64[ns]\n",
              "pickup_longitude            float64\n",
              "pickup_latitude             float64\n",
              "dropoff_longitude           float64\n",
              "dropoff_latitude            float64\n",
              "passenger_count               int64\n",
              "dtype: object"
            ]
          },
          "metadata": {
            "tags": []
          },
          "execution_count": 48
        }
      ]
    },
    {
      "cell_type": "code",
      "metadata": {
        "colab_type": "code",
        "id": "z5658q2zOcJZ",
        "colab": {
          "base_uri": "https://localhost:8080/",
          "height": 317
        },
        "outputId": "83669a73-22f9-4c23-e374-50dd4a7a4050"
      },
      "source": [
        "train.describe()"
      ],
      "execution_count": null,
      "outputs": [
        {
          "output_type": "execute_result",
          "data": {
            "text/html": [
              "<div>\n",
              "<style scoped>\n",
              "    .dataframe tbody tr th:only-of-type {\n",
              "        vertical-align: middle;\n",
              "    }\n",
              "\n",
              "    .dataframe tbody tr th {\n",
              "        vertical-align: top;\n",
              "    }\n",
              "\n",
              "    .dataframe thead th {\n",
              "        text-align: right;\n",
              "    }\n",
              "</style>\n",
              "<table border=\"1\" class=\"dataframe\">\n",
              "  <thead>\n",
              "    <tr style=\"text-align: right;\">\n",
              "      <th></th>\n",
              "      <th>fare_amount</th>\n",
              "      <th>pickup_longitude</th>\n",
              "      <th>pickup_latitude</th>\n",
              "      <th>dropoff_longitude</th>\n",
              "      <th>dropoff_latitude</th>\n",
              "      <th>passenger_count</th>\n",
              "    </tr>\n",
              "  </thead>\n",
              "  <tbody>\n",
              "    <tr>\n",
              "      <th>count</th>\n",
              "      <td>1000000.000000</td>\n",
              "      <td>1000000.000000</td>\n",
              "      <td>1000000.000000</td>\n",
              "      <td>999990.000000</td>\n",
              "      <td>999990.000000</td>\n",
              "      <td>1000000.000000</td>\n",
              "    </tr>\n",
              "    <tr>\n",
              "      <th>mean</th>\n",
              "      <td>11.348079</td>\n",
              "      <td>-72.526640</td>\n",
              "      <td>39.929008</td>\n",
              "      <td>-72.527860</td>\n",
              "      <td>39.919954</td>\n",
              "      <td>1.684924</td>\n",
              "    </tr>\n",
              "    <tr>\n",
              "      <th>std</th>\n",
              "      <td>9.822090</td>\n",
              "      <td>12.057937</td>\n",
              "      <td>7.626154</td>\n",
              "      <td>11.324494</td>\n",
              "      <td>8.201418</td>\n",
              "      <td>1.323911</td>\n",
              "    </tr>\n",
              "    <tr>\n",
              "      <th>min</th>\n",
              "      <td>-44.900000</td>\n",
              "      <td>-3377.680935</td>\n",
              "      <td>-3116.285383</td>\n",
              "      <td>-3383.296608</td>\n",
              "      <td>-3114.338567</td>\n",
              "      <td>0.000000</td>\n",
              "    </tr>\n",
              "    <tr>\n",
              "      <th>25%</th>\n",
              "      <td>6.000000</td>\n",
              "      <td>-73.992060</td>\n",
              "      <td>40.734965</td>\n",
              "      <td>-73.991385</td>\n",
              "      <td>40.734046</td>\n",
              "      <td>1.000000</td>\n",
              "    </tr>\n",
              "    <tr>\n",
              "      <th>50%</th>\n",
              "      <td>8.500000</td>\n",
              "      <td>-73.981792</td>\n",
              "      <td>40.752695</td>\n",
              "      <td>-73.980135</td>\n",
              "      <td>40.753166</td>\n",
              "      <td>1.000000</td>\n",
              "    </tr>\n",
              "    <tr>\n",
              "      <th>75%</th>\n",
              "      <td>12.500000</td>\n",
              "      <td>-73.967094</td>\n",
              "      <td>40.767154</td>\n",
              "      <td>-73.963654</td>\n",
              "      <td>40.768129</td>\n",
              "      <td>2.000000</td>\n",
              "    </tr>\n",
              "    <tr>\n",
              "      <th>max</th>\n",
              "      <td>500.000000</td>\n",
              "      <td>2522.271325</td>\n",
              "      <td>2621.628430</td>\n",
              "      <td>45.581619</td>\n",
              "      <td>1651.553433</td>\n",
              "      <td>208.000000</td>\n",
              "    </tr>\n",
              "  </tbody>\n",
              "</table>\n",
              "</div>"
            ],
            "text/plain": [
              "          fare_amount  pickup_longitude  ...  dropoff_latitude  passenger_count\n",
              "count  1000000.000000    1000000.000000  ...     999990.000000   1000000.000000\n",
              "mean        11.348079        -72.526640  ...         39.919954         1.684924\n",
              "std          9.822090         12.057937  ...          8.201418         1.323911\n",
              "min        -44.900000      -3377.680935  ...      -3114.338567         0.000000\n",
              "25%          6.000000        -73.992060  ...         40.734046         1.000000\n",
              "50%          8.500000        -73.981792  ...         40.753166         1.000000\n",
              "75%         12.500000        -73.967094  ...         40.768129         2.000000\n",
              "max        500.000000       2522.271325  ...       1651.553433       208.000000\n",
              "\n",
              "[8 rows x 6 columns]"
            ]
          },
          "metadata": {
            "tags": []
          },
          "execution_count": 49
        }
      ]
    },
    {
      "cell_type": "code",
      "metadata": {
        "colab_type": "code",
        "id": "nYJkes3jOdaJ",
        "colab": {}
      },
      "source": [
        "def add_travel_vector_features(df):\n",
        "    df['abs_diff_longitude'] = (df.dropoff_longitude - df.pickup_longitude).abs()\n",
        "    df['abs_diff_latitude'] = (df.dropoff_latitude - df.pickup_latitude).abs()\n",
        "\n",
        "add_travel_vector_features(train)"
      ],
      "execution_count": null,
      "outputs": []
    },
    {
      "cell_type": "code",
      "metadata": {
        "colab_type": "code",
        "id": "rvX84Hoxk1Zj",
        "colab": {
          "base_uri": "https://localhost:8080/",
          "height": 309
        },
        "outputId": "4c594dcc-53dc-49c8-c92a-3ef49f974c02"
      },
      "source": [
        "train.head()"
      ],
      "execution_count": null,
      "outputs": [
        {
          "output_type": "execute_result",
          "data": {
            "text/html": [
              "<div>\n",
              "<style scoped>\n",
              "    .dataframe tbody tr th:only-of-type {\n",
              "        vertical-align: middle;\n",
              "    }\n",
              "\n",
              "    .dataframe tbody tr th {\n",
              "        vertical-align: top;\n",
              "    }\n",
              "\n",
              "    .dataframe thead th {\n",
              "        text-align: right;\n",
              "    }\n",
              "</style>\n",
              "<table border=\"1\" class=\"dataframe\">\n",
              "  <thead>\n",
              "    <tr style=\"text-align: right;\">\n",
              "      <th></th>\n",
              "      <th>fare_amount</th>\n",
              "      <th>pickup_datetime</th>\n",
              "      <th>pickup_longitude</th>\n",
              "      <th>pickup_latitude</th>\n",
              "      <th>dropoff_longitude</th>\n",
              "      <th>dropoff_latitude</th>\n",
              "      <th>passenger_count</th>\n",
              "      <th>abs_diff_longitude</th>\n",
              "      <th>abs_diff_latitude</th>\n",
              "    </tr>\n",
              "  </thead>\n",
              "  <tbody>\n",
              "    <tr>\n",
              "      <th>0</th>\n",
              "      <td>4.5</td>\n",
              "      <td>2009-06-15 17:26:21</td>\n",
              "      <td>-73.844311</td>\n",
              "      <td>40.721319</td>\n",
              "      <td>-73.841610</td>\n",
              "      <td>40.712278</td>\n",
              "      <td>1</td>\n",
              "      <td>0.002701</td>\n",
              "      <td>0.009041</td>\n",
              "    </tr>\n",
              "    <tr>\n",
              "      <th>1</th>\n",
              "      <td>16.9</td>\n",
              "      <td>2010-01-05 16:52:16</td>\n",
              "      <td>-74.016048</td>\n",
              "      <td>40.711303</td>\n",
              "      <td>-73.979268</td>\n",
              "      <td>40.782004</td>\n",
              "      <td>1</td>\n",
              "      <td>0.036780</td>\n",
              "      <td>0.070701</td>\n",
              "    </tr>\n",
              "    <tr>\n",
              "      <th>2</th>\n",
              "      <td>5.7</td>\n",
              "      <td>2011-08-18 00:35:00</td>\n",
              "      <td>-73.982738</td>\n",
              "      <td>40.761270</td>\n",
              "      <td>-73.991242</td>\n",
              "      <td>40.750562</td>\n",
              "      <td>2</td>\n",
              "      <td>0.008504</td>\n",
              "      <td>0.010708</td>\n",
              "    </tr>\n",
              "    <tr>\n",
              "      <th>3</th>\n",
              "      <td>7.7</td>\n",
              "      <td>2012-04-21 04:30:42</td>\n",
              "      <td>-73.987130</td>\n",
              "      <td>40.733143</td>\n",
              "      <td>-73.991567</td>\n",
              "      <td>40.758092</td>\n",
              "      <td>1</td>\n",
              "      <td>0.004437</td>\n",
              "      <td>0.024949</td>\n",
              "    </tr>\n",
              "    <tr>\n",
              "      <th>4</th>\n",
              "      <td>5.3</td>\n",
              "      <td>2010-03-09 07:51:00</td>\n",
              "      <td>-73.968095</td>\n",
              "      <td>40.768008</td>\n",
              "      <td>-73.956655</td>\n",
              "      <td>40.783762</td>\n",
              "      <td>1</td>\n",
              "      <td>0.011440</td>\n",
              "      <td>0.015754</td>\n",
              "    </tr>\n",
              "  </tbody>\n",
              "</table>\n",
              "</div>"
            ],
            "text/plain": [
              "   fare_amount     pickup_datetime  ...  abs_diff_longitude  abs_diff_latitude\n",
              "0          4.5 2009-06-15 17:26:21  ...            0.002701           0.009041\n",
              "1         16.9 2010-01-05 16:52:16  ...            0.036780           0.070701\n",
              "2          5.7 2011-08-18 00:35:00  ...            0.008504           0.010708\n",
              "3          7.7 2012-04-21 04:30:42  ...            0.004437           0.024949\n",
              "4          5.3 2010-03-09 07:51:00  ...            0.011440           0.015754\n",
              "\n",
              "[5 rows x 9 columns]"
            ]
          },
          "metadata": {
            "tags": []
          },
          "execution_count": 51
        }
      ]
    },
    {
      "cell_type": "markdown",
      "metadata": {
        "colab_type": "text",
        "id": "ETMJ8EI4lHrh"
      },
      "source": [
        "Read in test set"
      ]
    },
    {
      "cell_type": "code",
      "metadata": {
        "colab_type": "code",
        "id": "17Lkf_YsOguo",
        "colab": {
          "base_uri": "https://localhost:8080/",
          "height": 153
        },
        "outputId": "aad7a119-c120-47dd-d78c-07d90ccac665"
      },
      "source": [
        "test_df = pd.read_csv('test.csv')\n",
        "test_df.dtypes"
      ],
      "execution_count": null,
      "outputs": [
        {
          "output_type": "execute_result",
          "data": {
            "text/plain": [
              "key                   object\n",
              "pickup_datetime       object\n",
              "pickup_longitude     float64\n",
              "pickup_latitude      float64\n",
              "dropoff_longitude    float64\n",
              "dropoff_latitude     float64\n",
              "passenger_count        int64\n",
              "dtype: object"
            ]
          },
          "metadata": {
            "tags": []
          },
          "execution_count": 52
        }
      ]
    },
    {
      "cell_type": "code",
      "metadata": {
        "colab_type": "code",
        "id": "nLM0rXFtOiNI",
        "colab": {}
      },
      "source": [
        "add_travel_vector_features(test_df)"
      ],
      "execution_count": null,
      "outputs": []
    },
    {
      "cell_type": "code",
      "metadata": {
        "colab_type": "code",
        "id": "nHR870EOOj4g",
        "colab": {
          "base_uri": "https://localhost:8080/",
          "height": 187
        },
        "outputId": "ad4c406e-7f08-48ce-d47f-6e92dcc8dd74"
      },
      "source": [
        "print(train.isnull().sum())"
      ],
      "execution_count": null,
      "outputs": [
        {
          "output_type": "stream",
          "text": [
            "fare_amount            0\n",
            "pickup_datetime        0\n",
            "pickup_longitude       0\n",
            "pickup_latitude        0\n",
            "dropoff_longitude     10\n",
            "dropoff_latitude      10\n",
            "passenger_count        0\n",
            "abs_diff_longitude    10\n",
            "abs_diff_latitude     10\n",
            "dtype: int64\n"
          ],
          "name": "stdout"
        }
      ]
    },
    {
      "cell_type": "code",
      "metadata": {
        "colab_type": "code",
        "id": "ygKyHcPJOlJw",
        "colab": {
          "base_uri": "https://localhost:8080/",
          "height": 51
        },
        "outputId": "616fd059-1e9b-4a30-8f3e-1c9fbd3e5507"
      },
      "source": [
        "print(f'Old size: {len(train)}')\n",
        "train = train.dropna(how = 'any', axis = 'rows')\n",
        "print(f'New size: {len(train)}')"
      ],
      "execution_count": null,
      "outputs": [
        {
          "output_type": "stream",
          "text": [
            "Old size: 1000000\n",
            "New size: 999990\n"
          ],
          "name": "stdout"
        }
      ]
    },
    {
      "cell_type": "code",
      "metadata": {
        "colab_type": "code",
        "id": "5ngFKLETOm_4",
        "colab": {
          "base_uri": "https://localhost:8080/",
          "height": 280
        },
        "outputId": "b7927c2a-4393-4d52-aa1e-62a17127ed6c"
      },
      "source": [
        "plot = train.iloc[:2000].plot.scatter('abs_diff_longitude', 'abs_diff_latitude')"
      ],
      "execution_count": null,
      "outputs": [
        {
          "output_type": "display_data",
          "data": {
            "image/png": "[encoded data removed]",
            "text/plain": [
              "<Figure size 432x288 with 1 Axes>"
            ]
          },
          "metadata": {
            "tags": [],
            "needs_background": "light"
          }
        }
      ]
    },
    {
      "cell_type": "code",
      "metadata": {
        "colab_type": "code",
        "id": "Z5WHdOKjOoi_",
        "colab": {
          "base_uri": "https://localhost:8080/",
          "height": 51
        },
        "outputId": "780f3721-21c8-4c75-dc52-f057e57676f0"
      },
      "source": [
        "print(f'Old size: {len(train)}')\n",
        "train = train[(train.abs_diff_longitude < 5.0) & (train.abs_diff_latitude < 5.0)]\n",
        "print(f'New size: {len(train)}')"
      ],
      "execution_count": null,
      "outputs": [
        {
          "output_type": "stream",
          "text": [
            "Old size: 999990\n",
            "New size: 998025\n"
          ],
          "name": "stdout"
        }
      ]
    },
    {
      "cell_type": "code",
      "metadata": {
        "colab_type": "code",
        "id": "zinnh2oEP2Fj",
        "colab": {
          "base_uri": "https://localhost:8080/",
          "height": 280
        },
        "outputId": "f3311da3-c725-4fb2-a505-7dc101123668"
      },
      "source": [
        "plot = train.iloc[:2000].plot.scatter('abs_diff_longitude', 'abs_diff_latitude')"
      ],
      "execution_count": null,
      "outputs": [
        {
          "output_type": "display_data",
          "data": {
            "image/png": "[encoded data removed]",
            "text/plain": [
              "<Figure size 432x288 with 1 Axes>"
            ]
          },
          "metadata": {
            "tags": [],
            "needs_background": "light"
          }
        }
      ]
    },
    {
      "cell_type": "markdown",
      "metadata": {
        "colab_type": "text",
        "id": "lr1Xa6-LHq52"
      },
      "source": [
        "### Naive baseline\n",
        "**Classroom exercise**: what is a reasonable baseline for predicting fare amount (`fare_amount` column in NYC taxi dataset) without knowing anything else?"
      ]
    },
    {
      "cell_type": "code",
      "metadata": {
        "colab_type": "code",
        "id": "U9ZpHS5mQupp",
        "colab": {}
      },
      "source": [
        "##### YOUR CODE STARTS #####\n",
        "baseline_predictions = np.repeat(train.fare_amount.mean(), test_df.shape[0])\n",
        "##### YOUR CODE ENDS ##### (please do not delete this line)"
      ],
      "execution_count": null,
      "outputs": []
    },
    {
      "cell_type": "code",
      "metadata": {
        "colab_type": "code",
        "id": "soqvE4jkO2lo",
        "colab": {
          "base_uri": "https://localhost:8080/",
          "height": 34
        },
        "outputId": "b0e0ea6a-0667-4783-b722-5abe82056a0a"
      },
      "source": [
        "baseline_predictions.shape"
      ],
      "execution_count": null,
      "outputs": [
        {
          "output_type": "execute_result",
          "data": {
            "text/plain": [
              "(9914,)"
            ]
          },
          "metadata": {
            "tags": []
          },
          "execution_count": 60
        }
      ]
    },
    {
      "cell_type": "code",
      "metadata": {
        "colab_type": "code",
        "id": "HtPZhyzMUBOQ",
        "colab": {
          "base_uri": "https://localhost:8080/",
          "height": 68
        },
        "outputId": "888dad5c-e5e5-4052-e1ea-48d7ade4ec7c"
      },
      "source": [
        "# Write the predictions to a CSV file which we can submit to the competition.\n",
        "submission = pd.DataFrame(\n",
        "    {'key': test_df.key, 'fare_amount': baseline_predictions},\n",
        "    columns = ['key', 'fare_amount'])\n",
        "submission.to_csv('submission_baseline.csv', index = False)\n",
        "\n",
        "!ls"
      ],
      "execution_count": null,
      "outputs": [
        {
          "output_type": "stream",
          "text": [
            "adc.json      nyc_data.zip\t     submission_baseline.csv\n",
            "__MACOSX      sample_data\t     test.csv\n",
            "model.pickle  sample_submission.csv  train_2M.csv\n"
          ],
          "name": "stdout"
        }
      ]
    },
    {
      "cell_type": "markdown",
      "metadata": {
        "colab_type": "text",
        "id": "pMTcwEVKZfrP"
      },
      "source": [
        "**Classroom exercise**: submit `submission_baseline.csv` to kaggle using earlier example, report RMSE that you get"
      ]
    },
    {
      "cell_type": "code",
      "metadata": {
        "colab_type": "code",
        "id": "ghUXJjZtWNhR",
        "colab": {
          "base_uri": "https://localhost:8080/",
          "height": 88
        },
        "outputId": "ab3f0e27-1948-4043-e55f-db4d6fb21ee8"
      },
      "source": [
        "##### YOUR CODE STARTS #####\n",
        "!kaggle competitions submit -c new-york-city-taxi-fare-prediction -f submission_baseline.csv -m \"Baseline submission\"\n",
        "##### YOUR CODE ENDS ##### (please do not delete this line)"
      ],
      "execution_count": null,
      "outputs": [
        {
          "output_type": "stream",
          "text": [
            "Warning: Looks like you're using an outdated API Version, please consider updating (server 1.5.6 / client 1.5.4)\n",
            "100% 451k/451k [00:00<00:00, 2.16MB/s]\n",
            "Successfully submitted to New York City Taxi Fare Prediction"
          ],
          "name": "stdout"
        }
      ]
    },
    {
      "cell_type": "markdown",
      "metadata": {
        "colab_type": "text",
        "id": "ba5yhMc2XBxz"
      },
      "source": [
        "### Linear regression on NYC taxi dataset based on one feature (abs_diff_longitude)"
      ]
    },
    {
      "cell_type": "markdown",
      "metadata": {
        "colab_type": "text",
        "id": "QHgq2oyYXzU_"
      },
      "source": [
        "**Classroom exercise**: Use earlier example on 2D data to calculate **`slope`** (`w1`) and **`intercept`** based on **`abs_diff_longitude`**\n"
      ]
    },
    {
      "cell_type": "code",
      "metadata": {
        "colab_type": "code",
        "id": "21P48rhuXE3h",
        "colab": {
          "base_uri": "https://localhost:8080/",
          "height": 34
        },
        "outputId": "a5ce6d2d-d84e-4e6c-fb5d-8cb61db2734b"
      },
      "source": [
        "##### YOUR CODE STARTS #####\n",
        "w1 = ((train.abs_diff_longitude - train.abs_diff_longitude.mean())*(train.fare_amount - train.fare_amount.mean())).sum()/((train.abs_diff_longitude - train.abs_diff_longitude.mean())**2).sum()\n",
        "intercept = train.fare_amount.mean() - w1*train.abs_diff_longitude.mean()\n",
        "\n",
        "##### YOUR CODE ENDS ##### (please do not delete this line)\n",
        "print(f\"w1 = {round(w1, 8)}; intercept = {round(intercept, 8)}\")"
      ],
      "execution_count": null,
      "outputs": [
        {
          "output_type": "stream",
          "text": [
            "w1 = 179.08616006; intercept = 7.31070345\n"
          ],
          "name": "stdout"
        }
      ]
    },
    {
      "cell_type": "markdown",
      "metadata": {
        "colab_type": "text",
        "id": "VoCEE4HkaPTB"
      },
      "source": [
        "Instead of calculating coefficients ourselves, we can use sklearn"
      ]
    },
    {
      "cell_type": "code",
      "metadata": {
        "colab_type": "code",
        "id": "ZCA4fNQO0P6J",
        "colab": {
          "base_uri": "https://localhost:8080/",
          "height": 34
        },
        "outputId": "975d4de4-412d-4e15-8f72-0ba1b0f6fda2"
      },
      "source": [
        "from sklearn.linear_model import LinearRegression\n",
        "\n",
        "lr = LinearRegression()\n",
        "lr.fit(train[['abs_diff_longitude']], train[['fare_amount']])"
      ],
      "execution_count": null,
      "outputs": [
        {
          "output_type": "execute_result",
          "data": {
            "text/plain": [
              "LinearRegression(copy_X=True, fit_intercept=True, n_jobs=None, normalize=False)"
            ]
          },
          "metadata": {
            "tags": []
          },
          "execution_count": 64
        }
      ]
    },
    {
      "cell_type": "markdown",
      "metadata": {
        "colab_type": "text",
        "id": "pC06Xp1w9A-c"
      },
      "source": [
        "#### Inspecting model object"
      ]
    },
    {
      "cell_type": "code",
      "metadata": {
        "colab_type": "code",
        "id": "V14--yD080QR",
        "colab": {
          "base_uri": "https://localhost:8080/",
          "height": 935
        },
        "outputId": "538c639f-10b2-4cef-8f77-73b989869fc1"
      },
      "source": [
        "dir(lr)"
      ],
      "execution_count": null,
      "outputs": [
        {
          "output_type": "execute_result",
          "data": {
            "text/plain": [
              "['__abstractmethods__',\n",
              " '__class__',\n",
              " '__delattr__',\n",
              " '__dict__',\n",
              " '__dir__',\n",
              " '__doc__',\n",
              " '__eq__',\n",
              " '__format__',\n",
              " '__ge__',\n",
              " '__getattribute__',\n",
              " '__getstate__',\n",
              " '__gt__',\n",
              " '__hash__',\n",
              " '__init__',\n",
              " '__init_subclass__',\n",
              " '__le__',\n",
              " '__lt__',\n",
              " '__module__',\n",
              " '__ne__',\n",
              " '__new__',\n",
              " '__reduce__',\n",
              " '__reduce_ex__',\n",
              " '__repr__',\n",
              " '__setattr__',\n",
              " '__setstate__',\n",
              " '__sizeof__',\n",
              " '__str__',\n",
              " '__subclasshook__',\n",
              " '__weakref__',\n",
              " '_abc_cache',\n",
              " '_abc_negative_cache',\n",
              " '_abc_negative_cache_version',\n",
              " '_abc_registry',\n",
              " '_decision_function',\n",
              " '_estimator_type',\n",
              " '_get_param_names',\n",
              " '_get_tags',\n",
              " '_more_tags',\n",
              " '_preprocess_data',\n",
              " '_residues',\n",
              " '_set_intercept',\n",
              " 'coef_',\n",
              " 'copy_X',\n",
              " 'fit',\n",
              " 'fit_intercept',\n",
              " 'get_params',\n",
              " 'intercept_',\n",
              " 'n_jobs',\n",
              " 'normalize',\n",
              " 'predict',\n",
              " 'rank_',\n",
              " 'score',\n",
              " 'set_params',\n",
              " 'singular_']"
            ]
          },
          "metadata": {
            "tags": []
          },
          "execution_count": 65
        }
      ]
    },
    {
      "cell_type": "code",
      "metadata": {
        "colab_type": "code",
        "id": "vnGHTN__AOtp",
        "colab": {
          "base_uri": "https://localhost:8080/",
          "height": 34
        },
        "outputId": "3091a9ac-639f-42b5-f46e-4bd40caeeb87"
      },
      "source": [
        "# Print learnt weights\n",
        "print(f'[{round(lr.coef_[0][0], 8)}, {round(lr.intercept_[0], 8)}]')"
      ],
      "execution_count": null,
      "outputs": [
        {
          "output_type": "stream",
          "text": [
            "[179.08616006, 7.31070345]\n"
          ],
          "name": "stdout"
        }
      ]
    },
    {
      "cell_type": "markdown",
      "metadata": {
        "colab_type": "text",
        "id": "GDfEG31gXvKZ"
      },
      "source": [
        "Using earlier example, let's predict `fare_amount` based on calculated coefficients **`intercept`** and **`w1`** and **`test_df.abs_diff_longitude`**."
      ]
    },
    {
      "cell_type": "code",
      "metadata": {
        "colab_type": "code",
        "id": "IdbmbIpzXTI9",
        "colab": {}
      },
      "source": [
        "predictions_manual = w1*test_df.abs_diff_longitude + intercept"
      ],
      "execution_count": null,
      "outputs": []
    },
    {
      "cell_type": "markdown",
      "metadata": {
        "colab_type": "text",
        "id": "kBCmETriTz-Y"
      },
      "source": [
        "Here is how you can predict `fare_amount` for `test_df` using sklearn object `lr`:"
      ]
    },
    {
      "cell_type": "code",
      "metadata": {
        "colab_type": "code",
        "id": "3OJ83PbMGGnc",
        "colab": {}
      },
      "source": [
        "predictions_sklearn = lr.predict(test_df[['abs_diff_longitude']])"
      ],
      "execution_count": null,
      "outputs": []
    },
    {
      "cell_type": "code",
      "metadata": {
        "colab_type": "code",
        "id": "yZ7zhICFX8Y6",
        "colab": {
          "base_uri": "https://localhost:8080/",
          "height": 68
        },
        "outputId": "8c3f0d8e-4895-4e1b-c8ce-5d5d5b3abb84"
      },
      "source": [
        "submission = pd.DataFrame(\n",
        "    {'key': test_df.key, 'fare_amount': np.squeeze(predictions_sklearn)},\n",
        "    columns = ['key', 'fare_amount'])\n",
        "submission.to_csv('submission_lr_2d.csv', index = False)\n",
        "\n",
        "!ls "
      ],
      "execution_count": null,
      "outputs": [
        {
          "output_type": "stream",
          "text": [
            "adc.json      nyc_data.zip\t     submission_baseline.csv  train_2M.csv\n",
            "__MACOSX      sample_data\t     submission_lr_2d.csv\n",
            "model.pickle  sample_submission.csv  test.csv\n"
          ],
          "name": "stdout"
        }
      ]
    },
    {
      "cell_type": "code",
      "metadata": {
        "colab_type": "code",
        "id": "hlwRf3w0YCxM",
        "colab": {
          "base_uri": "https://localhost:8080/",
          "height": 88
        },
        "outputId": "b36a99b4-6acd-42ba-d5c7-f058db582d09"
      },
      "source": [
        "!kaggle competitions submit -c new-york-city-taxi-fare-prediction -f submission_lr_2d.csv -m \"Linear Regression with only abs_diff_longitude as an independent variable\""
      ],
      "execution_count": null,
      "outputs": [
        {
          "output_type": "stream",
          "text": [
            "Warning: Looks like you're using an outdated API Version, please consider updating (server 1.5.6 / client 1.5.4)\n",
            "100% 454k/454k [00:00<00:00, 2.17MB/s]\n",
            "Successfully submitted to New York City Taxi Fare Prediction"
          ],
          "name": "stdout"
        }
      ]
    },
    {
      "cell_type": "code",
      "metadata": {
        "colab_type": "code",
        "id": "toSd2drMJzvp",
        "colab": {
          "base_uri": "https://localhost:8080/",
          "height": 187
        },
        "outputId": "495e4fd2-0a6f-4e44-a2f7-29a352df24e2"
      },
      "source": [
        "!head submission_lr_2d.csv"
      ],
      "execution_count": null,
      "outputs": [
        {
          "output_type": "stream",
          "text": [
            "key,fare_amount\n",
            "2015-01-27 13:08:24.0000002,8.763100513241412\n",
            "2015-01-27 13:08:24.0000003,9.464022144954694\n",
            "2011-10-08 11:53:44.0000002,7.8246807272937176\n",
            "2012-12-01 21:12:12.0000002,8.974055702575015\n",
            "2012-12-01 21:12:12.0000003,11.343544686361735\n",
            "2012-12-01 21:12:12.0000005,10.568997044091063\n",
            "2011-10-06 12:10:20.0000001,9.210628520017996\n",
            "2011-10-06 12:10:20.0000003,44.52498659500659\n",
            "2011-10-06 12:10:20.0000002,10.712086885978357\n"
          ],
          "name": "stdout"
        }
      ]
    },
    {
      "cell_type": "markdown",
      "metadata": {
        "colab_type": "text",
        "id": "fLpkthynagGi"
      },
      "source": [
        "What RMSE you obtained with this model?"
      ]
    },
    {
      "cell_type": "markdown",
      "metadata": {
        "colab_type": "text",
        "id": "4ND-fEPFgEuc"
      },
      "source": [
        "## Save/load model using pickle."
      ]
    },
    {
      "cell_type": "code",
      "metadata": {
        "colab_type": "code",
        "id": "lamRzy5RgHY8",
        "colab": {}
      },
      "source": [
        "import pickle\n",
        "import os\n",
        "\n",
        "pickle_out = open('linear_regression.pickle', 'wb')\n",
        "pickle.dump(lr, pickle_out)\n",
        "\n",
        "if os.path.getsize('linear_regression.pickle') > 0:  \n",
        "    print(\"file is not empty\")"
      ],
      "execution_count": null,
      "outputs": []
    },
    {
      "cell_type": "code",
      "metadata": {
        "colab_type": "code",
        "id": "sFPxRBn3gQ7D",
        "colab": {}
      },
      "source": [
        "!ls"
      ],
      "execution_count": null,
      "outputs": []
    },
    {
      "cell_type": "code",
      "metadata": {
        "colab_type": "code",
        "id": "Eq_TNYCAgRb8",
        "colab": {}
      },
      "source": [
        "del lr"
      ],
      "execution_count": null,
      "outputs": []
    },
    {
      "cell_type": "markdown",
      "metadata": {
        "colab_type": "text",
        "id": "32ALANZBgZGH"
      },
      "source": [
        "Now, if you call `lr` you should get an error:"
      ]
    },
    {
      "cell_type": "code",
      "metadata": {
        "colab_type": "code",
        "id": "rX6F7DUagZ8o",
        "colab": {}
      },
      "source": [
        "lr"
      ],
      "execution_count": null,
      "outputs": []
    },
    {
      "cell_type": "code",
      "metadata": {
        "colab_type": "code",
        "id": "Bulbskr2gbAD",
        "colab": {}
      },
      "source": [
        "filename = 'linear_regression.pickle'\n",
        "with open(filename, 'rb') as file:\n",
        "  lr = pickle.load(file)"
      ],
      "execution_count": null,
      "outputs": []
    },
    {
      "cell_type": "markdown",
      "metadata": {
        "colab_type": "text",
        "id": "tRgHrImTgfIL"
      },
      "source": [
        "Check that `lr` object has been loaded successfully\n"
      ]
    },
    {
      "cell_type": "code",
      "metadata": {
        "colab_type": "code",
        "id": "5fp_TWrzWi6l",
        "colab": {}
      },
      "source": [
        "lr"
      ],
      "execution_count": null,
      "outputs": []
    },
    {
      "cell_type": "code",
      "metadata": {
        "colab_type": "code",
        "id": "MXrnjgrsghWz",
        "colab": {}
      },
      "source": [
        "lr.get_params"
      ],
      "execution_count": null,
      "outputs": []
    },
    {
      "cell_type": "markdown",
      "metadata": {
        "colab_type": "text",
        "id": "7p4GMeGK-QGL"
      },
      "source": [
        "## Homework exercise 4 (1 point): read and explore `model.pickel`"
      ]
    },
    {
      "cell_type": "markdown",
      "metadata": {
        "colab_type": "text",
        "id": "Rsa9ojOlgmmk"
      },
      "source": [
        "<font color='red'> **(Homework exercise 4- a)** read in `model.pickel` file that you have downloaded from `nyc_data.zip` using `pickle.load()` function. (0.5 points)"
      ]
    },
    {
      "cell_type": "code",
      "metadata": {
        "colab_type": "code",
        "id": "iezeRiy9gl_-",
        "colab": {}
      },
      "source": [
        "##### YOUR CODE STARTS #####\n",
        "filename = \n",
        "##### YOUR CODE ENDS ##### (please do not delete this line)"
      ],
      "execution_count": null,
      "outputs": []
    },
    {
      "cell_type": "markdown",
      "metadata": {
        "colab_type": "text",
        "id": "mJQbGVDs-1vS"
      },
      "source": [
        "<font color='red'> **(Homework exercise 4- b)** next, explore the object using function `dir` and answer the following questions:\n",
        "* <font color='red'> Which model was saved into this object?  \n",
        "* <font color='red'> How many coefficients it has and what are their values?\n",
        "* <font color='red'>Can you find out which features have been used for training?\n",
        "\n",
        "<font color='red'>(0.5 points)\n"
      ]
    },
    {
      "cell_type": "markdown",
      "metadata": {
        "colab_type": "text",
        "id": "-PoebBH_ii4H"
      },
      "source": [
        "Answers to (b): "
      ]
    },
    {
      "cell_type": "markdown",
      "metadata": {
        "colab_type": "text",
        "id": "QXiM7T9qYWfG"
      },
      "source": [
        "### Linear regression based on more than one feature"
      ]
    },
    {
      "cell_type": "code",
      "metadata": {
        "colab_type": "code",
        "id": "TJKT5S2pYbwK",
        "colab": {
          "base_uri": "https://localhost:8080/",
          "height": 34
        },
        "outputId": "555fd2aa-8634-4428-faaa-5cd351b5b307"
      },
      "source": [
        "lr = LinearRegression()\n",
        "lr.fit(train[['abs_diff_longitude', 'abs_diff_latitude']], train[['fare_amount']])\n",
        "\n",
        "# Print learnt weights\n",
        "print(f'[{round(lr.coef_[0][0], 8)}, {round(lr.coef_[0][1], 8)} , {round(lr.intercept_[0], 8)}]')"
      ],
      "execution_count": null,
      "outputs": [
        {
          "output_type": "stream",
          "text": [
            "[146.1216904, 89.26772999 , 6.17039106]\n"
          ],
          "name": "stdout"
        }
      ]
    },
    {
      "cell_type": "markdown",
      "metadata": {
        "colab_type": "text",
        "id": "8dDBCIlujFWp"
      },
      "source": [
        "Predict `fare_amount` for test set and submit predictions to kaggle"
      ]
    },
    {
      "cell_type": "code",
      "metadata": {
        "colab_type": "code",
        "id": "mVpFOfPWUJMT",
        "colab": {
          "base_uri": "https://localhost:8080/",
          "height": 68
        },
        "outputId": "7113e6c3-6df8-4ec8-b160-f17b4644825d"
      },
      "source": [
        "# Predict fare_amount on the test set using our model (w) trained on the training set.\n",
        "test_y_predictions = lr.predict(test_df[['abs_diff_longitude', 'abs_diff_latitude']])\n",
        "\n",
        "# Write the predictions to a CSV file which we can submit to the competition.\n",
        "submission = pd.DataFrame(\n",
        "    {'key': test_df.key, 'fare_amount': np.squeeze(test_y_predictions)},\n",
        "    columns = ['key', 'fare_amount'])\n",
        "submission.to_csv('submission_lr_3d.csv', index = False)\n",
        "\n",
        "!ls "
      ],
      "execution_count": null,
      "outputs": [
        {
          "output_type": "stream",
          "text": [
            "adc.json      nyc_data.zip\t     submission_baseline.csv  test.csv\n",
            "__MACOSX      sample_data\t     submission_lr_2d.csv     train_2M.csv\n",
            "model.pickle  sample_submission.csv  submission_lr_3d.csv\n"
          ],
          "name": "stdout"
        }
      ]
    },
    {
      "cell_type": "code",
      "metadata": {
        "colab_type": "code",
        "id": "EHNFNX9YUo1n",
        "colab": {
          "base_uri": "https://localhost:8080/",
          "height": 88
        },
        "outputId": "ef3008a1-feb1-4c74-eb69-46809af14e63"
      },
      "source": [
        "!kaggle competitions submit -c new-york-city-taxi-fare-prediction -f submission_lr_3d.csv -m \"Linear Regression with two predictors on 1M records\""
      ],
      "execution_count": null,
      "outputs": [
        {
          "output_type": "stream",
          "text": [
            "Warning: Looks like you're using an outdated API Version, please consider updating (server 1.5.6 / client 1.5.4)\n",
            "100% 454k/454k [00:00<00:00, 2.17MB/s]\n",
            "Successfully submitted to New York City Taxi Fare Prediction"
          ],
          "name": "stdout"
        }
      ]
    },
    {
      "cell_type": "markdown",
      "metadata": {
        "colab_type": "text",
        "id": "tRoXaw0ET_GG"
      },
      "source": [
        "### Decision Tree (DT)"
      ]
    },
    {
      "cell_type": "code",
      "metadata": {
        "colab_type": "code",
        "id": "b3fz57D3Tuqy",
        "colab": {
          "base_uri": "https://localhost:8080/",
          "height": 119
        },
        "outputId": "a8621aff-d507-489d-cb1a-079077778527"
      },
      "source": [
        "from sklearn.tree import DecisionTreeRegressor\n",
        "dtr= DecisionTreeRegressor(max_depth = 100)\n",
        "dtr.fit(train[['abs_diff_longitude', 'abs_diff_latitude']], train[['fare_amount']])"
      ],
      "execution_count": null,
      "outputs": [
        {
          "output_type": "execute_result",
          "data": {
            "text/plain": [
              "DecisionTreeRegressor(ccp_alpha=0.0, criterion='mse', max_depth=100,\n",
              "                      max_features=None, max_leaf_nodes=None,\n",
              "                      min_impurity_decrease=0.0, min_impurity_split=None,\n",
              "                      min_samples_leaf=1, min_samples_split=2,\n",
              "                      min_weight_fraction_leaf=0.0, presort='deprecated',\n",
              "                      random_state=None, splitter='best')"
            ]
          },
          "metadata": {
            "tags": []
          },
          "execution_count": 75
        }
      ]
    },
    {
      "cell_type": "markdown",
      "metadata": {
        "colab_type": "text",
        "id": "SCwxaKI4VhVM"
      },
      "source": [
        "How can we predict the goodness of this model without sending it to the server? (Hint: remember RMSE?)"
      ]
    },
    {
      "cell_type": "code",
      "metadata": {
        "colab_type": "code",
        "id": "pXQEDEwOY6N-",
        "colab": {
          "base_uri": "https://localhost:8080/",
          "height": 34
        },
        "outputId": "39d8ba81-2906-476a-c9c5-6a1eaff80703"
      },
      "source": [
        "np.sqrt(np.mean((dtr.predict(train[['abs_diff_longitude', 'abs_diff_latitude']]) - train['fare_amount'])**2))"
      ],
      "execution_count": null,
      "outputs": [
        {
          "output_type": "execute_result",
          "data": {
            "text/plain": [
              "2.59857983541131"
            ]
          },
          "metadata": {
            "tags": []
          },
          "execution_count": 76
        }
      ]
    },
    {
      "cell_type": "markdown",
      "metadata": {
        "colab_type": "text",
        "id": "3_NmcC6gb5-n"
      },
      "source": [
        "or using built-in function:"
      ]
    },
    {
      "cell_type": "code",
      "metadata": {
        "colab_type": "code",
        "id": "aSTwJPc3Vgru",
        "colab": {
          "base_uri": "https://localhost:8080/",
          "height": 34
        },
        "outputId": "08c47634-bf3e-4614-badb-dfaba723f6f2"
      },
      "source": [
        "from sklearn.metrics import mean_squared_error\n",
        "np.sqrt(mean_squared_error( train.fare_amount, dtr.predict(train[['abs_diff_longitude', 'abs_diff_latitude']])))"
      ],
      "execution_count": null,
      "outputs": [
        {
          "output_type": "execute_result",
          "data": {
            "text/plain": [
              "2.598579835411356"
            ]
          },
          "metadata": {
            "tags": []
          },
          "execution_count": 77
        }
      ]
    },
    {
      "cell_type": "markdown",
      "metadata": {
        "colab_type": "text",
        "id": "3Utsm_1rnksz"
      },
      "source": [
        "Very good! What would be our standing in the leaderboard if this RMSE was true?"
      ]
    },
    {
      "cell_type": "markdown",
      "metadata": {
        "colab_type": "text",
        "id": "O5FTDyNGnXVk"
      },
      "source": [
        "Let's now submit this mode's predictions to kaggle and compare RMSE scores"
      ]
    },
    {
      "cell_type": "code",
      "metadata": {
        "colab_type": "code",
        "id": "1eqN62e_VVje",
        "colab": {}
      },
      "source": [
        "test_y_predictions = dtr.predict(test_df[['abs_diff_longitude', 'abs_diff_latitude']])"
      ],
      "execution_count": null,
      "outputs": []
    },
    {
      "cell_type": "code",
      "metadata": {
        "colab_type": "code",
        "id": "W8eZnKmeV3UC",
        "colab": {
          "base_uri": "https://localhost:8080/",
          "height": 88
        },
        "outputId": "fef7ee06-942a-46c9-b8f7-342b5d6324ae"
      },
      "source": [
        "# Write the predictions to a CSV file which we can submit to the competition.\n",
        "submission = pd.DataFrame(\n",
        "    {'key': test_df.key, 'fare_amount': test_y_predictions},\n",
        "    columns = ['key', 'fare_amount'])\n",
        "submission.to_csv('submission_dt.csv', index = False)\n",
        "\n",
        "!kaggle competitions submit -c new-york-city-taxi-fare-prediction -f submission_dt.csv -m \"Decision Tree Regressor using 1M records and max_depth = 100\""
      ],
      "execution_count": null,
      "outputs": [
        {
          "output_type": "stream",
          "text": [
            "Warning: Looks like you're using an outdated API Version, please consider updating (server 1.5.6 / client 1.5.4)\n",
            "\r  0% 0.00/322k [00:00<?, ?B/s]\r100% 322k/322k [00:00<00:00, 1.54MB/s]\n",
            "Successfully submitted to New York City Taxi Fare Prediction"
          ],
          "name": "stdout"
        }
      ]
    },
    {
      "cell_type": "markdown",
      "metadata": {
        "colab_type": "text",
        "id": "W61EbSaLclDT"
      },
      "source": [
        "### Train, val split for more accurate estimate of our model performance\n",
        "We will divide our initial `train` into `train_X` (80%) and `val_X`(20%). We shall create separate variables `train_y` and `val_y` that will hold fare_amount for corresponding rows for convenience."
      ]
    },
    {
      "cell_type": "code",
      "metadata": {
        "colab_type": "code",
        "id": "sCEE6oS5cPK3",
        "colab": {}
      },
      "source": [
        "train_X = train[0:int(len(train)*0.8)]\n",
        "train_y = train.fare_amount[0:int(len(train)*0.8)]"
      ],
      "execution_count": null,
      "outputs": []
    },
    {
      "cell_type": "markdown",
      "metadata": {
        "colab_type": "text",
        "id": "dmOuThjiokAQ"
      },
      "source": [
        "**Classroom exercise**: assign remaining 20% of the data to val_X, val_y"
      ]
    },
    {
      "cell_type": "code",
      "metadata": {
        "colab_type": "code",
        "id": "KH6T3ry6okUp",
        "colab": {}
      },
      "source": [
        "##### YOUR CODE STARTS #####\n",
        "val_X = train[int(len(train)*0.8):]\n",
        "val_y = train.fare_amount[int(len(train)*0.8):]\n",
        "##### YOUR CODE ENDS ##### (please do not delete this line)"
      ],
      "execution_count": null,
      "outputs": []
    },
    {
      "cell_type": "code",
      "metadata": {
        "colab_type": "code",
        "id": "-ozmdmqJfSJ0",
        "colab": {
          "base_uri": "https://localhost:8080/",
          "height": 85
        },
        "outputId": "4129ff0a-39c3-4929-cf3f-68dab8e36c9f"
      },
      "source": [
        "print(train_X.shape)\n",
        "print(train_y.shape)\n",
        "print(val_X.shape)\n",
        "print(val_y.shape)"
      ],
      "execution_count": null,
      "outputs": [
        {
          "output_type": "stream",
          "text": [
            "(798420, 9)\n",
            "(798420,)\n",
            "(199605, 9)\n",
            "(199605,)\n"
          ],
          "name": "stdout"
        }
      ]
    },
    {
      "cell_type": "code",
      "metadata": {
        "colab_type": "code",
        "id": "MZvC3DoRg4IX",
        "colab": {
          "base_uri": "https://localhost:8080/",
          "height": 309
        },
        "outputId": "6a85d092-f83a-4b88-9926-c648b892d5c2"
      },
      "source": [
        "train_X[0:5]"
      ],
      "execution_count": null,
      "outputs": [
        {
          "output_type": "execute_result",
          "data": {
            "text/html": [
              "<div>\n",
              "<style scoped>\n",
              "    .dataframe tbody tr th:only-of-type {\n",
              "        vertical-align: middle;\n",
              "    }\n",
              "\n",
              "    .dataframe tbody tr th {\n",
              "        vertical-align: top;\n",
              "    }\n",
              "\n",
              "    .dataframe thead th {\n",
              "        text-align: right;\n",
              "    }\n",
              "</style>\n",
              "<table border=\"1\" class=\"dataframe\">\n",
              "  <thead>\n",
              "    <tr style=\"text-align: right;\">\n",
              "      <th></th>\n",
              "      <th>fare_amount</th>\n",
              "      <th>pickup_datetime</th>\n",
              "      <th>pickup_longitude</th>\n",
              "      <th>pickup_latitude</th>\n",
              "      <th>dropoff_longitude</th>\n",
              "      <th>dropoff_latitude</th>\n",
              "      <th>passenger_count</th>\n",
              "      <th>abs_diff_longitude</th>\n",
              "      <th>abs_diff_latitude</th>\n",
              "    </tr>\n",
              "  </thead>\n",
              "  <tbody>\n",
              "    <tr>\n",
              "      <th>0</th>\n",
              "      <td>4.5</td>\n",
              "      <td>2009-06-15 17:26:21</td>\n",
              "      <td>-73.844311</td>\n",
              "      <td>40.721319</td>\n",
              "      <td>-73.841610</td>\n",
              "      <td>40.712278</td>\n",
              "      <td>1</td>\n",
              "      <td>0.002701</td>\n",
              "      <td>0.009041</td>\n",
              "    </tr>\n",
              "    <tr>\n",
              "      <th>1</th>\n",
              "      <td>16.9</td>\n",
              "      <td>2010-01-05 16:52:16</td>\n",
              "      <td>-74.016048</td>\n",
              "      <td>40.711303</td>\n",
              "      <td>-73.979268</td>\n",
              "      <td>40.782004</td>\n",
              "      <td>1</td>\n",
              "      <td>0.036780</td>\n",
              "      <td>0.070701</td>\n",
              "    </tr>\n",
              "    <tr>\n",
              "      <th>2</th>\n",
              "      <td>5.7</td>\n",
              "      <td>2011-08-18 00:35:00</td>\n",
              "      <td>-73.982738</td>\n",
              "      <td>40.761270</td>\n",
              "      <td>-73.991242</td>\n",
              "      <td>40.750562</td>\n",
              "      <td>2</td>\n",
              "      <td>0.008504</td>\n",
              "      <td>0.010708</td>\n",
              "    </tr>\n",
              "    <tr>\n",
              "      <th>3</th>\n",
              "      <td>7.7</td>\n",
              "      <td>2012-04-21 04:30:42</td>\n",
              "      <td>-73.987130</td>\n",
              "      <td>40.733143</td>\n",
              "      <td>-73.991567</td>\n",
              "      <td>40.758092</td>\n",
              "      <td>1</td>\n",
              "      <td>0.004437</td>\n",
              "      <td>0.024949</td>\n",
              "    </tr>\n",
              "    <tr>\n",
              "      <th>4</th>\n",
              "      <td>5.3</td>\n",
              "      <td>2010-03-09 07:51:00</td>\n",
              "      <td>-73.968095</td>\n",
              "      <td>40.768008</td>\n",
              "      <td>-73.956655</td>\n",
              "      <td>40.783762</td>\n",
              "      <td>1</td>\n",
              "      <td>0.011440</td>\n",
              "      <td>0.015754</td>\n",
              "    </tr>\n",
              "  </tbody>\n",
              "</table>\n",
              "</div>"
            ],
            "text/plain": [
              "   fare_amount     pickup_datetime  ...  abs_diff_longitude  abs_diff_latitude\n",
              "0          4.5 2009-06-15 17:26:21  ...            0.002701           0.009041\n",
              "1         16.9 2010-01-05 16:52:16  ...            0.036780           0.070701\n",
              "2          5.7 2011-08-18 00:35:00  ...            0.008504           0.010708\n",
              "3          7.7 2012-04-21 04:30:42  ...            0.004437           0.024949\n",
              "4          5.3 2010-03-09 07:51:00  ...            0.011440           0.015754\n",
              "\n",
              "[5 rows x 9 columns]"
            ]
          },
          "metadata": {
            "tags": []
          },
          "execution_count": 83
        }
      ]
    },
    {
      "cell_type": "markdown",
      "metadata": {
        "colab_type": "text",
        "id": "pCV5mUM_f6l7"
      },
      "source": [
        "What if your first samples were easier to predict than the later ones?"
      ]
    },
    {
      "cell_type": "code",
      "metadata": {
        "colab_type": "code",
        "id": "MoBaWmKTfSg3",
        "colab": {}
      },
      "source": [
        "from sklearn.model_selection import train_test_split\n",
        "train_X, val_X, train_y, val_y = train_test_split(train, np.array(train['fare_amount']), \n",
        "                                                      random_state = 111, \n",
        "                                                      test_size = 0.20) # you can also explicitely say how many observations will be in the validation set"
      ],
      "execution_count": null,
      "outputs": []
    },
    {
      "cell_type": "code",
      "metadata": {
        "colab_type": "code",
        "id": "w-easQJ0g1p-",
        "colab": {
          "base_uri": "https://localhost:8080/",
          "height": 85
        },
        "outputId": "a8d63b37-9953-49af-86ba-8e41e05d49f4"
      },
      "source": [
        "print(train_X.shape)\n",
        "print(train_y.shape)\n",
        "print(val_X.shape)\n",
        "print(val_y.shape)"
      ],
      "execution_count": null,
      "outputs": [
        {
          "output_type": "stream",
          "text": [
            "(798420, 9)\n",
            "(798420,)\n",
            "(199605, 9)\n",
            "(199605,)\n"
          ],
          "name": "stdout"
        }
      ]
    },
    {
      "cell_type": "code",
      "metadata": {
        "colab_type": "code",
        "id": "nXd6FZq5g2wd",
        "colab": {
          "base_uri": "https://localhost:8080/",
          "height": 309
        },
        "outputId": "ace0c109-855d-4a15-f6f5-5b55c946155c"
      },
      "source": [
        "train_X[0:5]"
      ],
      "execution_count": null,
      "outputs": [
        {
          "output_type": "execute_result",
          "data": {
            "text/html": [
              "<div>\n",
              "<style scoped>\n",
              "    .dataframe tbody tr th:only-of-type {\n",
              "        vertical-align: middle;\n",
              "    }\n",
              "\n",
              "    .dataframe tbody tr th {\n",
              "        vertical-align: top;\n",
              "    }\n",
              "\n",
              "    .dataframe thead th {\n",
              "        text-align: right;\n",
              "    }\n",
              "</style>\n",
              "<table border=\"1\" class=\"dataframe\">\n",
              "  <thead>\n",
              "    <tr style=\"text-align: right;\">\n",
              "      <th></th>\n",
              "      <th>fare_amount</th>\n",
              "      <th>pickup_datetime</th>\n",
              "      <th>pickup_longitude</th>\n",
              "      <th>pickup_latitude</th>\n",
              "      <th>dropoff_longitude</th>\n",
              "      <th>dropoff_latitude</th>\n",
              "      <th>passenger_count</th>\n",
              "      <th>abs_diff_longitude</th>\n",
              "      <th>abs_diff_latitude</th>\n",
              "    </tr>\n",
              "  </thead>\n",
              "  <tbody>\n",
              "    <tr>\n",
              "      <th>532805</th>\n",
              "      <td>34.3</td>\n",
              "      <td>2012-03-25 00:48:00</td>\n",
              "      <td>-73.991870</td>\n",
              "      <td>40.725952</td>\n",
              "      <td>-73.921162</td>\n",
              "      <td>40.880293</td>\n",
              "      <td>1</td>\n",
              "      <td>0.070708</td>\n",
              "      <td>0.154341</td>\n",
              "    </tr>\n",
              "    <tr>\n",
              "      <th>568773</th>\n",
              "      <td>4.9</td>\n",
              "      <td>2009-10-05 16:52:00</td>\n",
              "      <td>-74.008297</td>\n",
              "      <td>40.737962</td>\n",
              "      <td>-74.003597</td>\n",
              "      <td>40.748382</td>\n",
              "      <td>1</td>\n",
              "      <td>0.004700</td>\n",
              "      <td>0.010420</td>\n",
              "    </tr>\n",
              "    <tr>\n",
              "      <th>295336</th>\n",
              "      <td>4.5</td>\n",
              "      <td>2014-04-27 19:31:00</td>\n",
              "      <td>-73.986800</td>\n",
              "      <td>40.750375</td>\n",
              "      <td>-73.987827</td>\n",
              "      <td>40.755322</td>\n",
              "      <td>2</td>\n",
              "      <td>0.001027</td>\n",
              "      <td>0.004947</td>\n",
              "    </tr>\n",
              "    <tr>\n",
              "      <th>828760</th>\n",
              "      <td>8.5</td>\n",
              "      <td>2013-01-06 00:50:00</td>\n",
              "      <td>-74.002555</td>\n",
              "      <td>40.739702</td>\n",
              "      <td>-73.986750</td>\n",
              "      <td>40.764188</td>\n",
              "      <td>5</td>\n",
              "      <td>0.015805</td>\n",
              "      <td>0.024486</td>\n",
              "    </tr>\n",
              "    <tr>\n",
              "      <th>731917</th>\n",
              "      <td>8.5</td>\n",
              "      <td>2009-01-05 09:13:50</td>\n",
              "      <td>-73.966283</td>\n",
              "      <td>40.764822</td>\n",
              "      <td>-73.946407</td>\n",
              "      <td>40.793230</td>\n",
              "      <td>1</td>\n",
              "      <td>0.019876</td>\n",
              "      <td>0.028408</td>\n",
              "    </tr>\n",
              "  </tbody>\n",
              "</table>\n",
              "</div>"
            ],
            "text/plain": [
              "        fare_amount     pickup_datetime  ...  abs_diff_longitude  abs_diff_latitude\n",
              "532805         34.3 2012-03-25 00:48:00  ...            0.070708           0.154341\n",
              "568773          4.9 2009-10-05 16:52:00  ...            0.004700           0.010420\n",
              "295336          4.5 2014-04-27 19:31:00  ...            0.001027           0.004947\n",
              "828760          8.5 2013-01-06 00:50:00  ...            0.015805           0.024486\n",
              "731917          8.5 2009-01-05 09:13:50  ...            0.019876           0.028408\n",
              "\n",
              "[5 rows x 9 columns]"
            ]
          },
          "metadata": {
            "tags": []
          },
          "execution_count": 86
        }
      ]
    },
    {
      "cell_type": "markdown",
      "metadata": {
        "colab_type": "text",
        "id": "iPF-eOJRq4Ll"
      },
      "source": [
        "We can train our models on training data and evaluating them on validation set to obtain more realistic estimates of RMSE. Let's see if this works with our decision tree model."
      ]
    },
    {
      "cell_type": "code",
      "metadata": {
        "colab_type": "code",
        "id": "BRLXYm4JqM90",
        "colab": {
          "base_uri": "https://localhost:8080/",
          "height": 119
        },
        "outputId": "9e6ef5b0-6845-4c45-d5fa-574078cc01bb"
      },
      "source": [
        "dtr=DecisionTreeRegressor(max_depth = 100) \n",
        "dtr.fit(train_X[['abs_diff_longitude', 'abs_diff_latitude']], train_y)"
      ],
      "execution_count": null,
      "outputs": [
        {
          "output_type": "execute_result",
          "data": {
            "text/plain": [
              "DecisionTreeRegressor(ccp_alpha=0.0, criterion='mse', max_depth=100,\n",
              "                      max_features=None, max_leaf_nodes=None,\n",
              "                      min_impurity_decrease=0.0, min_impurity_split=None,\n",
              "                      min_samples_leaf=1, min_samples_split=2,\n",
              "                      min_weight_fraction_leaf=0.0, presort='deprecated',\n",
              "                      random_state=None, splitter='best')"
            ]
          },
          "metadata": {
            "tags": []
          },
          "execution_count": 90
        }
      ]
    },
    {
      "cell_type": "code",
      "metadata": {
        "colab_type": "code",
        "id": "XVBrU3RbsGNG",
        "colab": {
          "base_uri": "https://localhost:8080/",
          "height": 34
        },
        "outputId": "b36ff3cd-9767-429c-c737-c5775c2635b8"
      },
      "source": [
        "np.sqrt(mean_squared_error(train_y, dtr.predict(train_X[['abs_diff_longitude', 'abs_diff_latitude']])))"
      ],
      "execution_count": null,
      "outputs": [
        {
          "output_type": "execute_result",
          "data": {
            "text/plain": [
              "2.5138894597895542"
            ]
          },
          "metadata": {
            "tags": []
          },
          "execution_count": 91
        }
      ]
    },
    {
      "cell_type": "code",
      "metadata": {
        "colab_type": "code",
        "id": "Z6CMmIW-g-hh",
        "colab": {
          "base_uri": "https://localhost:8080/",
          "height": 34
        },
        "outputId": "90ec5285-16aa-45b6-9870-4105eb6cb9ce"
      },
      "source": [
        "np.sqrt(mean_squared_error(val_y, dtr.predict(val_X[['abs_diff_longitude', 'abs_diff_latitude']])))"
      ],
      "execution_count": null,
      "outputs": [
        {
          "output_type": "execute_result",
          "data": {
            "text/plain": [
              "6.654124145504255"
            ]
          },
          "metadata": {
            "tags": []
          },
          "execution_count": 92
        }
      ]
    },
    {
      "cell_type": "markdown",
      "metadata": {
        "colab_type": "text",
        "id": "ZPy_G_6MoShz"
      },
      "source": [
        "if you increase the depth of the decision tree (e.g. to 100), you will see that the gap between validation and train RMSE also grows. **What could be the reason?**"
      ]
    },
    {
      "cell_type": "markdown",
      "metadata": {
        "colab_type": "text",
        "id": "iSVKmeImszQP"
      },
      "source": [
        "Now train a new decision tree instance on the whole dataset (train + validation sets combined) with a reasonable `max_depth`."
      ]
    },
    {
      "cell_type": "code",
      "metadata": {
        "colab_type": "code",
        "id": "UQ-CkMZ3kAOV",
        "colab": {
          "base_uri": "https://localhost:8080/",
          "height": 119
        },
        "outputId": "a5578103-1177-43dd-fbb3-0d52269e4373"
      },
      "source": [
        "dtr=DecisionTreeRegressor(max_depth = 10) \n",
        "dtr.fit(train[['abs_diff_longitude', 'abs_diff_latitude']], train[['fare_amount']])"
      ],
      "execution_count": null,
      "outputs": [
        {
          "output_type": "execute_result",
          "data": {
            "text/plain": [
              "DecisionTreeRegressor(ccp_alpha=0.0, criterion='mse', max_depth=10,\n",
              "                      max_features=None, max_leaf_nodes=None,\n",
              "                      min_impurity_decrease=0.0, min_impurity_split=None,\n",
              "                      min_samples_leaf=1, min_samples_split=2,\n",
              "                      min_weight_fraction_leaf=0.0, presort='deprecated',\n",
              "                      random_state=None, splitter='best')"
            ]
          },
          "metadata": {
            "tags": []
          },
          "execution_count": 93
        }
      ]
    },
    {
      "cell_type": "code",
      "metadata": {
        "colab_type": "code",
        "id": "vF-QZAv6s5-z",
        "colab": {
          "base_uri": "https://localhost:8080/",
          "height": 85
        },
        "outputId": "405889d6-1ba0-4168-9eb4-c77847be3993"
      },
      "source": [
        "test_y_predictions = dtr.predict(test_df[['abs_diff_longitude', 'abs_diff_latitude']])\n",
        "\n",
        "# Write the predictions to a CSV file which we can submit to the competition.\n",
        "submission = pd.DataFrame(\n",
        "    {'key': test_df.key, 'fare_amount': test_y_predictions},\n",
        "    columns = ['key', 'fare_amount'])\n",
        "submission.to_csv('submission_dt.csv', index = False)\n",
        "\n",
        "!ls"
      ],
      "execution_count": null,
      "outputs": [
        {
          "output_type": "stream",
          "text": [
            "adc.json      sample_data\t       submission_lr_2d.csv\n",
            "__MACOSX      sample_submission.csv    submission_lr_3d.csv\n",
            "model.pickle  submission_baseline.csv  test.csv\n",
            "nyc_data.zip  submission_dt.csv        train_2M.csv\n"
          ],
          "name": "stdout"
        }
      ]
    },
    {
      "cell_type": "code",
      "metadata": {
        "colab_type": "code",
        "id": "pihqbIH3s9QK",
        "colab": {
          "base_uri": "https://localhost:8080/",
          "height": 88
        },
        "outputId": "6634ed6e-d79c-42ab-bfb1-84a20cdc650a"
      },
      "source": [
        "!kaggle competitions submit -c new-york-city-taxi-fare-prediction -f submission_dt.csv -m \"Decision Tree Regressor using 1M records and max_depth = 10\""
      ],
      "execution_count": null,
      "outputs": [
        {
          "output_type": "stream",
          "text": [
            "Warning: Looks like you're using an outdated API Version, please consider updating (server 1.5.6 / client 1.5.4)\n",
            "\r  0% 0.00/455k [00:00<?, ?B/s]\r100% 455k/455k [00:00<00:00, 2.17MB/s]\n",
            "Successfully submitted to New York City Taxi Fare Prediction"
          ],
          "name": "stdout"
        }
      ]
    },
    {
      "cell_type": "markdown",
      "metadata": {
        "colab_type": "text",
        "id": "nqV2c5sDc_f2"
      },
      "source": [
        "## Homework exercise 5 (3 points): cross-validation algorithm\n",
        "<font color='red'> We were cheating on our validation data when we hand-picked the number of decision trees in the previous example (as we used validation data multiple times). The honest and better way of finding a good hyperparameter (depth of the tree) is a **cross-validation algorithm**.\n"
      ]
    },
    {
      "cell_type": "markdown",
      "metadata": {
        "id": "rSbeesjBy89b",
        "colab_type": "text"
      },
      "source": [
        "<font color='red'> **(Homework exercise 5- a)** Implement the cross-validation algorithm using lecture slides and hints in comments. (2 points) </font>"
      ]
    },
    {
      "cell_type": "code",
      "metadata": {
        "colab_type": "code",
        "id": "G96lG0IbfG87",
        "colab": {}
      },
      "source": [
        "max_depths = [1, 2, 5, 8, 9, 10, 11, 12, 13, 15, 20]\n",
        "\n",
        "for param in max_depths:\n",
        "  print(f'Calculating RMSE for {param} tree(s)...')\n",
        "  ##### YOUR CODE STARTS #####\n",
        "  # 4-fold cross validation\n",
        "  # break training data into 4 equal chunks using np.concatenate and np.repeate functions\n",
        "  folds_indx =  ...\n",
        "\n",
        "  # randomly shuffle the indeces\n",
        "  np.random.shuffle(folds_indx)\n",
        "  \n",
        "  # number of folds\n",
        "  n_folds = 4\n",
        "\n",
        "  # initialise variable that will hold RMSEs for each fold\n",
        "  fold_RMSEs = np.zeros(n_folds)\n",
        "  for fold_indx in np.arange(n_folds):\n",
        "\n",
        "    # split data into train_X, train_y and val_X, val_y depending on the fold:\n",
        "    train_X = ...\n",
        "    train_y = ...\n",
        "    val_X = ...\n",
        "    val_y = ...\n",
        "\n",
        "    # train the decision tree with max_depth = param\n",
        "    dtr = ...\n",
        "\n",
        "    # fit the decision tree on training data\n",
        "    dtr.fit(...)\n",
        "\n",
        "    # predict validation data\n",
        "    val_predictions = ...\n",
        "\n",
        "    # calculate RMSE for this fold\n",
        "    fold_RMSEs[fold_indx] = ...\n",
        "    ##### YOUR CODE ENDS ##### (please do not delete this line)\n",
        "\n",
        "  print(f'Average validation RMSE for {param} of trees is {np.mean(fold_RMSEs)}')"
      ],
      "execution_count": null,
      "outputs": []
    },
    {
      "cell_type": "markdown",
      "metadata": {
        "colab_type": "text",
        "id": "urDuREWxK_ro"
      },
      "source": [
        "<font color='red'> **(Homework exercise 5- b)** Based on above results train the `DecisionTreeRegressor` on the entire training data with new, more optimal number of trees. Predict the test set and submit the results to Kaggle. Print out your new leaderboard score, which should be smaller than 4.02083. Interpret your results (1 point) </font>"
      ]
    },
    {
      "cell_type": "code",
      "metadata": {
        "colab_type": "code",
        "id": "3OfvpyJKIN_j",
        "colab": {}
      },
      "source": [
        "##### YOUR CODE STARTS #####\n",
        "...\n",
        "\n",
        "!kaggle ...\n",
        "print(f\"My new score is {}\")\n",
        "##### YOUR CODE ENDS ##### (please do not delete this line)"
      ],
      "execution_count": null,
      "outputs": []
    },
    {
      "cell_type": "markdown",
      "metadata": {
        "id": "tVi9oSaKGtmS",
        "colab_type": "text"
      },
      "source": [
        "Interpretation of results:"
      ]
    },
    {
      "cell_type": "markdown",
      "metadata": {
        "colab_type": "text",
        "id": "sMmhuxN4iw2L"
      },
      "source": [
        "# Bonus exercises\n",
        "*(NB, these are optional exercises!)*"
      ]
    },
    {
      "cell_type": "markdown",
      "metadata": {
        "id": "_2T9ydozzcb-",
        "colab_type": "text"
      },
      "source": [
        "## Bonus exercise 1 (2 bonus points):\n",
        "\n",
        "<font color='red'> Visualising misclassified examples can help to debug the classification algorithm. But misclassified examples may have different probabilities. In this bonus exercise (optional) try modifying code we have written for the homework exercise 2 so that title now would include probability of a true class and of a wrong class. You would probably need to change the code of `classify_knn` function. </font> "
      ]
    },
    {
      "cell_type": "markdown",
      "metadata": {
        "colab_type": "text",
        "id": "UkOtofaRjH8P"
      },
      "source": [
        "## Bonus exercise 2 (up to 5 points): the grand challenge\n",
        "<font color='red'> Try to get into top 300 places on public leaderboard (RMSE < 3.04) using different ML algorithms with different parameters, more features, more data, better preprocessing. Here are some ideas for improvement:\n",
        "* Use more data (we only took 1M out of 2M, there are 53M more on the website)\n",
        "* Do more preprocessing (remember negative prices or unrealistic numbers of passengers?)\n",
        "* Use more/better features (e.g. euclidean distance, or google what is haversine distance)\n",
        "* Use some other regression algorithm (e.g. look into RandomForestRegressor from sklearn.ensemble)\n",
        "* Tune parameters of these algorithms\n",
        "* Try something else!\n",
        "</font> \n",
        "\n",
        "<font color='red'>You should make a small post here with code and elaborate explanations of what you have tried (do it even you did not manage to break into top 300). **Report your final leaderboard rank**. Number of points would depend on quality of your explanations and the resulting rank.</font> \n"
      ]
    },
    {
      "cell_type": "code",
      "metadata": {
        "colab_type": "code",
        "id": "d2T2eINijEhg",
        "colab": {}
      },
      "source": [
        "# Hint:\n",
        "R = 6378\n",
        "\n",
        "def haversine_distance(lon1, lon2, lat1, lat2):\n",
        "    \"\"\"\n",
        "    Calculate the great circle distance between two points\n",
        "    on the earth (specified in decimal degrees)\n",
        "\n",
        "    All args must be of equal length.    \n",
        "    \n",
        "    source: https://stackoverflow.com/a/29546836\n",
        "\n",
        "    \"\"\"\n",
        "    # Convert latitude and longitude to radians\n",
        "    lon1, lat1, lon2, lat2 = map(np.radians, [lon1, lat1, lon2, lat2])\n",
        "\n",
        "    # Find the differences\n",
        "    dlon = lon2 - lon1\n",
        "    dlat = lat2 - lat1\n",
        "\n",
        "    # Apply the formula \n",
        "    a = np.sin(dlat/2.0)**2 + np.cos(lat1) * np.cos(lat2) * np.sin(dlon/2.0)**2\n",
        "    # Calculate the angle (in radians)\n",
        "    c = 2 * np.arcsin(np.sqrt(a))\n",
        "    # Convert to kilometers\n",
        "    km = R * c\n",
        "    \n",
        "    return km"
      ],
      "execution_count": null,
      "outputs": []
    },
    {
      "cell_type": "markdown",
      "metadata": {
        "id": "6JZfcKFAs82h",
        "colab_type": "text"
      },
      "source": [
        "# Comments (optional feedback to the course instructors)\n",
        "Here, please, leave your comments regarding the homework, possibly answering the following questions: \n",
        "* how much time did you spend on this homework?\n",
        "* was it too hard/easy for you?\n",
        "* what would you suggest to add or remove?\n",
        "* anything else you would like to tell us"
      ]
    },
    {
      "cell_type": "markdown",
      "metadata": {
        "id": "22VPt-05s-Yg",
        "colab_type": "text"
      },
      "source": [
        "Your comments:"
      ]
    },
    {
      "cell_type": "markdown",
      "metadata": {
        "id": "_57iGEWYZ4_H",
        "colab_type": "text"
      },
      "source": [
        "# <font color='red'>  End of the homework. Please don't delete this cell.</font>"
      ]
    }
  ]
}